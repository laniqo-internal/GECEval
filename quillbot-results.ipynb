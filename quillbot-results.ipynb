{
 "cells": [
  {
   "cell_type": "code",
   "id": "initial_id",
   "metadata": {
    "collapsed": true,
    "jupyter": {
     "outputs_hidden": true
    },
    "ExecuteTime": {
     "end_time": "2024-08-21T14:01:00.827251Z",
     "start_time": "2024-08-21T14:01:00.824188Z"
    }
   },
   "source": [
    "import json\n",
    "\n",
    "import matplotlib.pyplot as plt\n",
    "import pandas as pd"
   ],
   "outputs": [],
   "execution_count": 137
  },
  {
   "cell_type": "code",
   "id": "ba0a8f6d63ef8cd1",
   "metadata": {
    "ExecuteTime": {
     "end_time": "2024-08-21T14:03:38.323321Z",
     "start_time": "2024-08-21T14:03:38.320160Z"
    }
   },
   "source": [
    "support_langs = ['en', 'de']\n",
    "models_results_path_format = \"model_outputs/2/%s.json\"\n",
    "models = ['gemma', 'llama31', 'gemma2B', 'aya']"
   ],
   "outputs": [],
   "execution_count": 163
  },
  {
   "cell_type": "code",
   "id": "202a2337b2b4de2e",
   "metadata": {
    "ExecuteTime": {
     "end_time": "2024-08-21T14:03:38.826403Z",
     "start_time": "2024-08-21T14:03:38.824477Z"
    }
   },
   "source": [
    "def load_results(path):\n",
    "    with open(path, 'r') as file:\n",
    "        return json.load(file)"
   ],
   "outputs": [],
   "execution_count": 164
  },
  {
   "cell_type": "code",
   "id": "af76a47d2fbc39aa",
   "metadata": {
    "ExecuteTime": {
     "end_time": "2024-08-21T14:03:38.988050Z",
     "start_time": "2024-08-21T14:03:38.985064Z"
    }
   },
   "source": [
    "def preprocess_json(data):\n",
    "    proper_data = []\n",
    "    for lang in data:\n",
    "        for r in data[lang]:\n",
    "            r['lang'] = lang\n",
    "            if 'quillbot_errors' not in r:\n",
    "                r['quillbot_errors'] = None\n",
    "            proper_data.append(r)\n",
    "    return proper_data"
   ],
   "outputs": [],
   "execution_count": 165
  },
  {
   "cell_type": "code",
   "id": "140844c3650f6b92",
   "metadata": {
    "ExecuteTime": {
     "end_time": "2024-08-21T14:03:39.159379Z",
     "start_time": "2024-08-21T14:03:39.116139Z"
    }
   },
   "source": [
    "original_dataset = preprocess_json(load_results(\"results.json\"))\n",
    "model_datasets = {model: preprocess_json(load_results(models_results_path_format % model)) for model in models}"
   ],
   "outputs": [],
   "execution_count": 166
  },
  {
   "cell_type": "code",
   "id": "36997bb43896e491",
   "metadata": {
    "ExecuteTime": {
     "end_time": "2024-08-21T14:03:39.247913Z",
     "start_time": "2024-08-21T14:03:39.244873Z"
    }
   },
   "source": [
    "def get_df(data):\n",
    "    df = pd.DataFrame(data)\n",
    "\n",
    "    df = df[df['lang'].isin(support_langs)]\n",
    "\n",
    "    if 'path' in df.columns:\n",
    "        df = df.drop(columns='path')\n",
    "\n",
    "    df = df[(~df['id'].str.endswith(\"(1).txt\"))]\n",
    "    df = df[(~df['content'].str.isupper())]\n",
    "\n",
    "    df['id'] = df['id'].apply(lambda x: x.replace(\".txt\", \"\").split(\"_\")[1]).astype(int)\n",
    "\n",
    "    df['word_count'] = df['content'].apply(lambda x: len(x.split()))\n",
    "    df['score'] = 1 - (df['quillbot_errors'] / df['word_count'])\n",
    "\n",
    "    df = df.sort_values(['id'])\n",
    "\n",
    "    return df"
   ],
   "outputs": [],
   "execution_count": 167
  },
  {
   "cell_type": "code",
   "id": "9de92daf11f18e6e",
   "metadata": {
    "ExecuteTime": {
     "end_time": "2024-08-21T14:03:39.473706Z",
     "start_time": "2024-08-21T14:03:39.416380Z"
    }
   },
   "source": [
    "original_df = get_df(original_dataset)\n",
    "model_dfs = {model: get_df(data) for model, data in model_datasets.items()}"
   ],
   "outputs": [],
   "execution_count": 168
  },
  {
   "cell_type": "code",
   "id": "cba5490f5fb023b4",
   "metadata": {
    "ExecuteTime": {
     "end_time": "2024-08-21T14:03:39.522335Z",
     "start_time": "2024-08-21T14:03:39.518036Z"
    }
   },
   "source": [
    "original_df.head()"
   ],
   "outputs": [
    {
     "data": {
      "text/plain": [
       "      id                                            content    label  \\\n",
       "9055   0  4 Die meisten Universitätsabschlüsse sind nich...  correct   \n",
       "2071   0                                     13th June 2000  correct   \n",
       "9070   1               Sie sind deswegen von geringem Wert.  correct   \n",
       "1286   1                                 Dear Ms Helen Ryan  correct   \n",
       "8852   2                    Darum sage ich zu dieser Frage:  correct   \n",
       "\n",
       "      quillbot_errors lang  word_count     score  \n",
       "9055              1.0   de          17  0.941176  \n",
       "2071              0.0   en           3  1.000000  \n",
       "9070              0.0   de           6  1.000000  \n",
       "1286              1.0   en           4  0.750000  \n",
       "8852              0.0   de           6  1.000000  "
      ],
      "text/html": [
       "<div>\n",
       "<style scoped>\n",
       "    .dataframe tbody tr th:only-of-type {\n",
       "        vertical-align: middle;\n",
       "    }\n",
       "\n",
       "    .dataframe tbody tr th {\n",
       "        vertical-align: top;\n",
       "    }\n",
       "\n",
       "    .dataframe thead th {\n",
       "        text-align: right;\n",
       "    }\n",
       "</style>\n",
       "<table border=\"1\" class=\"dataframe\">\n",
       "  <thead>\n",
       "    <tr style=\"text-align: right;\">\n",
       "      <th></th>\n",
       "      <th>id</th>\n",
       "      <th>content</th>\n",
       "      <th>label</th>\n",
       "      <th>quillbot_errors</th>\n",
       "      <th>lang</th>\n",
       "      <th>word_count</th>\n",
       "      <th>score</th>\n",
       "    </tr>\n",
       "  </thead>\n",
       "  <tbody>\n",
       "    <tr>\n",
       "      <th>9055</th>\n",
       "      <td>0</td>\n",
       "      <td>4 Die meisten Universitätsabschlüsse sind nich...</td>\n",
       "      <td>correct</td>\n",
       "      <td>1.0</td>\n",
       "      <td>de</td>\n",
       "      <td>17</td>\n",
       "      <td>0.941176</td>\n",
       "    </tr>\n",
       "    <tr>\n",
       "      <th>2071</th>\n",
       "      <td>0</td>\n",
       "      <td>13th June 2000</td>\n",
       "      <td>correct</td>\n",
       "      <td>0.0</td>\n",
       "      <td>en</td>\n",
       "      <td>3</td>\n",
       "      <td>1.000000</td>\n",
       "    </tr>\n",
       "    <tr>\n",
       "      <th>9070</th>\n",
       "      <td>1</td>\n",
       "      <td>Sie sind deswegen von geringem Wert.</td>\n",
       "      <td>correct</td>\n",
       "      <td>0.0</td>\n",
       "      <td>de</td>\n",
       "      <td>6</td>\n",
       "      <td>1.000000</td>\n",
       "    </tr>\n",
       "    <tr>\n",
       "      <th>1286</th>\n",
       "      <td>1</td>\n",
       "      <td>Dear Ms Helen Ryan</td>\n",
       "      <td>correct</td>\n",
       "      <td>1.0</td>\n",
       "      <td>en</td>\n",
       "      <td>4</td>\n",
       "      <td>0.750000</td>\n",
       "    </tr>\n",
       "    <tr>\n",
       "      <th>8852</th>\n",
       "      <td>2</td>\n",
       "      <td>Darum sage ich zu dieser Frage:</td>\n",
       "      <td>correct</td>\n",
       "      <td>0.0</td>\n",
       "      <td>de</td>\n",
       "      <td>6</td>\n",
       "      <td>1.000000</td>\n",
       "    </tr>\n",
       "  </tbody>\n",
       "</table>\n",
       "</div>"
      ]
     },
     "execution_count": 169,
     "metadata": {},
     "output_type": "execute_result"
    }
   ],
   "execution_count": 169
  },
  {
   "cell_type": "code",
   "id": "394cb54cd9922c28",
   "metadata": {
    "ExecuteTime": {
     "end_time": "2024-08-21T14:03:39.666224Z",
     "start_time": "2024-08-21T14:03:39.661932Z"
    }
   },
   "source": [
    "model_dfs['gemma'].head()"
   ],
   "outputs": [
    {
     "data": {
      "text/plain": [
       "      id    label                                            content  \\\n",
       "150    0  correct                                  13th June 2000 \\n   \n",
       "8651   0  correct  Die meisten Universitätsabschlüsse sind nicht ...   \n",
       "287    1  correct                             Dear Ms. Helen Ryan \\n   \n",
       "7033   1  correct             Sie sind deshalb von geringem Wert. \\n   \n",
       "318    2  correct                           Competition Organizer \\n   \n",
       "\n",
       "      quillbot_errors lang  word_count  score  \n",
       "150               0.0   en           3    1.0  \n",
       "8651              NaN   de          16    NaN  \n",
       "287               0.0   en           4    1.0  \n",
       "7033              NaN   de           6    NaN  \n",
       "318               1.0   en           2    0.5  "
      ],
      "text/html": [
       "<div>\n",
       "<style scoped>\n",
       "    .dataframe tbody tr th:only-of-type {\n",
       "        vertical-align: middle;\n",
       "    }\n",
       "\n",
       "    .dataframe tbody tr th {\n",
       "        vertical-align: top;\n",
       "    }\n",
       "\n",
       "    .dataframe thead th {\n",
       "        text-align: right;\n",
       "    }\n",
       "</style>\n",
       "<table border=\"1\" class=\"dataframe\">\n",
       "  <thead>\n",
       "    <tr style=\"text-align: right;\">\n",
       "      <th></th>\n",
       "      <th>id</th>\n",
       "      <th>label</th>\n",
       "      <th>content</th>\n",
       "      <th>quillbot_errors</th>\n",
       "      <th>lang</th>\n",
       "      <th>word_count</th>\n",
       "      <th>score</th>\n",
       "    </tr>\n",
       "  </thead>\n",
       "  <tbody>\n",
       "    <tr>\n",
       "      <th>150</th>\n",
       "      <td>0</td>\n",
       "      <td>correct</td>\n",
       "      <td>13th June 2000 \\n</td>\n",
       "      <td>0.0</td>\n",
       "      <td>en</td>\n",
       "      <td>3</td>\n",
       "      <td>1.0</td>\n",
       "    </tr>\n",
       "    <tr>\n",
       "      <th>8651</th>\n",
       "      <td>0</td>\n",
       "      <td>correct</td>\n",
       "      <td>Die meisten Universitätsabschlüsse sind nicht ...</td>\n",
       "      <td>NaN</td>\n",
       "      <td>de</td>\n",
       "      <td>16</td>\n",
       "      <td>NaN</td>\n",
       "    </tr>\n",
       "    <tr>\n",
       "      <th>287</th>\n",
       "      <td>1</td>\n",
       "      <td>correct</td>\n",
       "      <td>Dear Ms. Helen Ryan \\n</td>\n",
       "      <td>0.0</td>\n",
       "      <td>en</td>\n",
       "      <td>4</td>\n",
       "      <td>1.0</td>\n",
       "    </tr>\n",
       "    <tr>\n",
       "      <th>7033</th>\n",
       "      <td>1</td>\n",
       "      <td>correct</td>\n",
       "      <td>Sie sind deshalb von geringem Wert. \\n</td>\n",
       "      <td>NaN</td>\n",
       "      <td>de</td>\n",
       "      <td>6</td>\n",
       "      <td>NaN</td>\n",
       "    </tr>\n",
       "    <tr>\n",
       "      <th>318</th>\n",
       "      <td>2</td>\n",
       "      <td>correct</td>\n",
       "      <td>Competition Organizer \\n</td>\n",
       "      <td>1.0</td>\n",
       "      <td>en</td>\n",
       "      <td>2</td>\n",
       "      <td>0.5</td>\n",
       "    </tr>\n",
       "  </tbody>\n",
       "</table>\n",
       "</div>"
      ]
     },
     "execution_count": 170,
     "metadata": {},
     "output_type": "execute_result"
    }
   ],
   "execution_count": 170
  },
  {
   "cell_type": "code",
   "id": "71ec853f67a8623a",
   "metadata": {
    "ExecuteTime": {
     "end_time": "2024-08-21T14:03:39.801199Z",
     "start_time": "2024-08-21T14:03:39.798956Z"
    }
   },
   "source": [
    "def plot_hist(d):\n",
    "    plt.hist(d[d['label'] == 'correct']['score'], label='correct', alpha=0.5, bins=10)\n",
    "    plt.hist(d[d['label'] == 'incorrect']['score'], label='incorrect', alpha=0.5, bins=10)\n",
    "    plt.legend(loc='upper left')\n",
    "    plt.show()"
   ],
   "outputs": [],
   "execution_count": 171
  },
  {
   "cell_type": "code",
   "id": "3d90985e8550ffcc",
   "metadata": {
    "ExecuteTime": {
     "end_time": "2024-08-21T14:03:40.447661Z",
     "start_time": "2024-08-21T14:03:40.444412Z"
    }
   },
   "source": [
    "def extract_lang(df, l):\n",
    "    return df[df['lang'] == l].set_index('id').sort_index()"
   ],
   "outputs": [],
   "execution_count": 172
  },
  {
   "cell_type": "code",
   "id": "7a91eb8040cb4fd0",
   "metadata": {
    "ExecuteTime": {
     "end_time": "2024-08-21T14:03:40.582871Z",
     "start_time": "2024-08-21T14:03:40.579604Z"
    }
   },
   "source": [
    "def extract_lang_df(original_df, model_dfs, l):\n",
    "    l_df: pd.DataFrame = extract_lang(original_df, l).drop(columns=['lang', 'quillbot_errors', 'word_count'])\n",
    "    for model, df in model_dfs.items():\n",
    "        l_df = l_df.join(extract_lang(df, l).drop(columns=['lang', 'quillbot_errors', 'word_count', 'label']),\n",
    "                         rsuffix=f'_{model}')\n",
    "    l_df = l_df.reindex(sorted(l_df.columns, reverse=True), axis=1)\n",
    "    l_df.sort_values('score')\n",
    "    return l_df"
   ],
   "outputs": [],
   "execution_count": 173
  },
  {
   "metadata": {
    "ExecuteTime": {
     "end_time": "2024-08-21T14:03:40.732489Z",
     "start_time": "2024-08-21T14:03:40.729561Z"
    }
   },
   "cell_type": "code",
   "source": [
    "def show_metrics(df):\n",
    "    print(f\"Mean score on original dataset: {df['score'].mean():.3f}\")\n",
    "    print()\n",
    "    r = {model: df[f'score_{model}'].mean() for model in models}\n",
    "    for m, r in sorted(r.items(), key=lambda x: x[1], reverse=True):\n",
    "        print(f\"{m}: {r:.3f}\")"
   ],
   "id": "d8b8ce7389782237",
   "outputs": [],
   "execution_count": 174
  },
  {
   "cell_type": "markdown",
   "id": "51d7d5dcc76e7049",
   "metadata": {},
   "source": [
    "## English"
   ]
  },
  {
   "cell_type": "code",
   "id": "d01a8cc2bc722d53",
   "metadata": {
    "ExecuteTime": {
     "end_time": "2024-08-21T14:03:41.322769Z",
     "start_time": "2024-08-21T14:03:41.301624Z"
    }
   },
   "source": [
    "en_df = extract_lang_df(original_df, model_dfs, 'en')\n",
    "en_df.head()"
   ],
   "outputs": [
    {
     "data": {
      "text/plain": [
       "    score_llama31  score_gemma2B  score_gemma  score_aya  score    label  \\\n",
       "id                                                                         \n",
       "0             1.0            1.0          1.0   1.000000   1.00  correct   \n",
       "1             1.0            1.0          1.0   1.000000   0.75  correct   \n",
       "2             0.5            0.5          0.5   1.000000   1.00  correct   \n",
       "3             1.0            1.0          1.0   0.900000   0.90  correct   \n",
       "4             1.0            1.0          1.0   0.933333   1.00  correct   \n",
       "\n",
       "                                      content_llama31  \\\n",
       "id                                                      \n",
       "0                                        13 June 2000   \n",
       "1                                 Dear Ms. Helen Ryan   \n",
       "2                               Competition Organizer   \n",
       "3   I am therefore writing to provide you with add...   \n",
       "4   First of all, I am a student and would like to...   \n",
       "\n",
       "                                      content_gemma2B  \\\n",
       "id                                                      \n",
       "0                                    June 13, 2000 \\n   \n",
       "1                              Dear Ms. Helen Ryan \\n   \n",
       "2                            Competition Organizer \\n   \n",
       "3   I am writing to provide you with further infor...   \n",
       "4   First of all, I am a student and would like to...   \n",
       "\n",
       "                                        content_gemma  \\\n",
       "id                                                      \n",
       "0                                   13th June 2000 \\n   \n",
       "1                              Dear Ms. Helen Ryan \\n   \n",
       "2                            Competition Organizer \\n   \n",
       "3   I am therefore writing to provide you with fur...   \n",
       "4   First of all, I am a student and would like to...   \n",
       "\n",
       "                                          content_aya  \\\n",
       "id                                                      \n",
       "0                                       June 13, 2000   \n",
       "1                                      Dear Ms. Ryan,   \n",
       "2                               Competition Organiser   \n",
       "3   I am therefore writing to give you my further ...   \n",
       "4   First of all, I am a student and I would like ...   \n",
       "\n",
       "                                              content  \n",
       "id                                                     \n",
       "0                                      13th June 2000  \n",
       "1                                  Dear Ms Helen Ryan  \n",
       "2                               Competition Organiser  \n",
       "3   I am therefore writing to give you my further ...  \n",
       "4   First of all, I am a student and would like to...  "
      ],
      "text/html": [
       "<div>\n",
       "<style scoped>\n",
       "    .dataframe tbody tr th:only-of-type {\n",
       "        vertical-align: middle;\n",
       "    }\n",
       "\n",
       "    .dataframe tbody tr th {\n",
       "        vertical-align: top;\n",
       "    }\n",
       "\n",
       "    .dataframe thead th {\n",
       "        text-align: right;\n",
       "    }\n",
       "</style>\n",
       "<table border=\"1\" class=\"dataframe\">\n",
       "  <thead>\n",
       "    <tr style=\"text-align: right;\">\n",
       "      <th></th>\n",
       "      <th>score_llama31</th>\n",
       "      <th>score_gemma2B</th>\n",
       "      <th>score_gemma</th>\n",
       "      <th>score_aya</th>\n",
       "      <th>score</th>\n",
       "      <th>label</th>\n",
       "      <th>content_llama31</th>\n",
       "      <th>content_gemma2B</th>\n",
       "      <th>content_gemma</th>\n",
       "      <th>content_aya</th>\n",
       "      <th>content</th>\n",
       "    </tr>\n",
       "    <tr>\n",
       "      <th>id</th>\n",
       "      <th></th>\n",
       "      <th></th>\n",
       "      <th></th>\n",
       "      <th></th>\n",
       "      <th></th>\n",
       "      <th></th>\n",
       "      <th></th>\n",
       "      <th></th>\n",
       "      <th></th>\n",
       "      <th></th>\n",
       "      <th></th>\n",
       "    </tr>\n",
       "  </thead>\n",
       "  <tbody>\n",
       "    <tr>\n",
       "      <th>0</th>\n",
       "      <td>1.0</td>\n",
       "      <td>1.0</td>\n",
       "      <td>1.0</td>\n",
       "      <td>1.000000</td>\n",
       "      <td>1.00</td>\n",
       "      <td>correct</td>\n",
       "      <td>13 June 2000</td>\n",
       "      <td>June 13, 2000 \\n</td>\n",
       "      <td>13th June 2000 \\n</td>\n",
       "      <td>June 13, 2000</td>\n",
       "      <td>13th June 2000</td>\n",
       "    </tr>\n",
       "    <tr>\n",
       "      <th>1</th>\n",
       "      <td>1.0</td>\n",
       "      <td>1.0</td>\n",
       "      <td>1.0</td>\n",
       "      <td>1.000000</td>\n",
       "      <td>0.75</td>\n",
       "      <td>correct</td>\n",
       "      <td>Dear Ms. Helen Ryan</td>\n",
       "      <td>Dear Ms. Helen Ryan \\n</td>\n",
       "      <td>Dear Ms. Helen Ryan \\n</td>\n",
       "      <td>Dear Ms. Ryan,</td>\n",
       "      <td>Dear Ms Helen Ryan</td>\n",
       "    </tr>\n",
       "    <tr>\n",
       "      <th>2</th>\n",
       "      <td>0.5</td>\n",
       "      <td>0.5</td>\n",
       "      <td>0.5</td>\n",
       "      <td>1.000000</td>\n",
       "      <td>1.00</td>\n",
       "      <td>correct</td>\n",
       "      <td>Competition Organizer</td>\n",
       "      <td>Competition Organizer \\n</td>\n",
       "      <td>Competition Organizer \\n</td>\n",
       "      <td>Competition Organiser</td>\n",
       "      <td>Competition Organiser</td>\n",
       "    </tr>\n",
       "    <tr>\n",
       "      <th>3</th>\n",
       "      <td>1.0</td>\n",
       "      <td>1.0</td>\n",
       "      <td>1.0</td>\n",
       "      <td>0.900000</td>\n",
       "      <td>0.90</td>\n",
       "      <td>correct</td>\n",
       "      <td>I am therefore writing to provide you with add...</td>\n",
       "      <td>I am writing to provide you with further infor...</td>\n",
       "      <td>I am therefore writing to provide you with fur...</td>\n",
       "      <td>I am therefore writing to give you my further ...</td>\n",
       "      <td>I am therefore writing to give you my further ...</td>\n",
       "    </tr>\n",
       "    <tr>\n",
       "      <th>4</th>\n",
       "      <td>1.0</td>\n",
       "      <td>1.0</td>\n",
       "      <td>1.0</td>\n",
       "      <td>0.933333</td>\n",
       "      <td>1.00</td>\n",
       "      <td>correct</td>\n",
       "      <td>First of all, I am a student and would like to...</td>\n",
       "      <td>First of all, I am a student and would like to...</td>\n",
       "      <td>First of all, I am a student and would like to...</td>\n",
       "      <td>First of all, I am a student and I would like ...</td>\n",
       "      <td>First of all, I am a student and would like to...</td>\n",
       "    </tr>\n",
       "  </tbody>\n",
       "</table>\n",
       "</div>"
      ]
     },
     "execution_count": 175,
     "metadata": {},
     "output_type": "execute_result"
    }
   ],
   "execution_count": 175
  },
  {
   "cell_type": "code",
   "id": "58d9433c603bfba2",
   "metadata": {
    "ExecuteTime": {
     "end_time": "2024-08-21T14:03:41.857516Z",
     "start_time": "2024-08-21T14:03:41.855200Z"
    }
   },
   "source": "show_metrics(en_df)",
   "outputs": [
    {
     "name": "stdout",
     "output_type": "stream",
     "text": [
      "Mean score on original dataset: 0.893\n",
      "\n",
      "gemma2B: 0.984\n",
      "gemma: 0.977\n",
      "llama31: 0.968\n",
      "aya: 0.955\n"
     ]
    }
   ],
   "execution_count": 176
  },
  {
   "metadata": {
    "ExecuteTime": {
     "end_time": "2024-08-21T14:03:42.317700Z",
     "start_time": "2024-08-21T14:03:42.312534Z"
    }
   },
   "cell_type": "code",
   "source": [
    "print(\"correct only\")\n",
    "show_metrics(en_df[en_df['label'] == 'correct'])"
   ],
   "id": "42d1665ba0b55084",
   "outputs": [
    {
     "name": "stdout",
     "output_type": "stream",
     "text": [
      "correct only\n",
      "Mean score on original dataset: 0.937\n",
      "\n",
      "gemma2B: 0.988\n",
      "gemma: 0.980\n",
      "llama31: 0.977\n",
      "aya: 0.969\n"
     ]
    }
   ],
   "execution_count": 177
  },
  {
   "metadata": {
    "ExecuteTime": {
     "end_time": "2024-08-21T14:03:42.755361Z",
     "start_time": "2024-08-21T14:03:42.751918Z"
    }
   },
   "cell_type": "code",
   "source": [
    "print(\"incorrect only\")\n",
    "show_metrics(en_df[en_df['label'] == 'incorrect'])"
   ],
   "id": "f9c6f30b58b46faf",
   "outputs": [
    {
     "name": "stdout",
     "output_type": "stream",
     "text": [
      "incorrect only\n",
      "Mean score on original dataset: 0.862\n",
      "\n",
      "gemma2B: 0.982\n",
      "gemma: 0.976\n",
      "llama31: 0.961\n",
      "aya: 0.946\n"
     ]
    }
   ],
   "execution_count": 178
  },
  {
   "cell_type": "code",
   "id": "f8e69083333cd26e",
   "metadata": {
    "ExecuteTime": {
     "end_time": "2024-08-21T14:04:02.413496Z",
     "start_time": "2024-08-21T14:04:02.344752Z"
    }
   },
   "source": [
    "plot_hist(en_df)"
   ],
   "outputs": [
    {
     "data": {
      "text/plain": [
       "<Figure size 640x480 with 1 Axes>"
      ],
      "image/png": "[encoded data removed]"
     },
     "metadata": {},
     "output_type": "display_data"
    }
   ],
   "execution_count": 179
  },
  {
   "cell_type": "code",
   "id": "31f20552bd137fdc",
   "metadata": {
    "ExecuteTime": {
     "end_time": "2024-08-21T14:04:03.559001Z",
     "start_time": "2024-08-21T14:04:03.551478Z"
    }
   },
   "source": [
    "en_df[(en_df['score'] != 1) & (en_df['label'] == 'correct')][['content', 'score']].sort_values('score')"
   ],
   "outputs": [
    {
     "data": {
      "text/plain": [
       "                                               content     score\n",
       "id                                                              \n",
       "348                                      Ms MARIA AROZ  0.000000\n",
       "155                                    13th June, 2000  0.333333\n",
       "149                                   DEAR Helen Ryan,  0.333333\n",
       "426                                 Dear Mr Robertson.  0.333333\n",
       "117                                    13th June, 2000  0.333333\n",
       "..                                                 ...       ...\n",
       "304  I've never been camping before, I guess I'm no...  0.961538\n",
       "613  I am very proud that I won first prize in your...  0.962963\n",
       "303  With regard to the date of the trip, July woul...  0.964286\n",
       "195  We would have to forgo the shopping as we migh...  0.964286\n",
       "169  Finally, when the musical show finished, and I...  0.970588\n",
       "\n",
       "[341 rows x 2 columns]"
      ],
      "text/html": [
       "<div>\n",
       "<style scoped>\n",
       "    .dataframe tbody tr th:only-of-type {\n",
       "        vertical-align: middle;\n",
       "    }\n",
       "\n",
       "    .dataframe tbody tr th {\n",
       "        vertical-align: top;\n",
       "    }\n",
       "\n",
       "    .dataframe thead th {\n",
       "        text-align: right;\n",
       "    }\n",
       "</style>\n",
       "<table border=\"1\" class=\"dataframe\">\n",
       "  <thead>\n",
       "    <tr style=\"text-align: right;\">\n",
       "      <th></th>\n",
       "      <th>content</th>\n",
       "      <th>score</th>\n",
       "    </tr>\n",
       "    <tr>\n",
       "      <th>id</th>\n",
       "      <th></th>\n",
       "      <th></th>\n",
       "    </tr>\n",
       "  </thead>\n",
       "  <tbody>\n",
       "    <tr>\n",
       "      <th>348</th>\n",
       "      <td>Ms MARIA AROZ</td>\n",
       "      <td>0.000000</td>\n",
       "    </tr>\n",
       "    <tr>\n",
       "      <th>155</th>\n",
       "      <td>13th June, 2000</td>\n",
       "      <td>0.333333</td>\n",
       "    </tr>\n",
       "    <tr>\n",
       "      <th>149</th>\n",
       "      <td>DEAR Helen Ryan,</td>\n",
       "      <td>0.333333</td>\n",
       "    </tr>\n",
       "    <tr>\n",
       "      <th>426</th>\n",
       "      <td>Dear Mr Robertson.</td>\n",
       "      <td>0.333333</td>\n",
       "    </tr>\n",
       "    <tr>\n",
       "      <th>117</th>\n",
       "      <td>13th June, 2000</td>\n",
       "      <td>0.333333</td>\n",
       "    </tr>\n",
       "    <tr>\n",
       "      <th>...</th>\n",
       "      <td>...</td>\n",
       "      <td>...</td>\n",
       "    </tr>\n",
       "    <tr>\n",
       "      <th>304</th>\n",
       "      <td>I've never been camping before, I guess I'm no...</td>\n",
       "      <td>0.961538</td>\n",
       "    </tr>\n",
       "    <tr>\n",
       "      <th>613</th>\n",
       "      <td>I am very proud that I won first prize in your...</td>\n",
       "      <td>0.962963</td>\n",
       "    </tr>\n",
       "    <tr>\n",
       "      <th>303</th>\n",
       "      <td>With regard to the date of the trip, July woul...</td>\n",
       "      <td>0.964286</td>\n",
       "    </tr>\n",
       "    <tr>\n",
       "      <th>195</th>\n",
       "      <td>We would have to forgo the shopping as we migh...</td>\n",
       "      <td>0.964286</td>\n",
       "    </tr>\n",
       "    <tr>\n",
       "      <th>169</th>\n",
       "      <td>Finally, when the musical show finished, and I...</td>\n",
       "      <td>0.970588</td>\n",
       "    </tr>\n",
       "  </tbody>\n",
       "</table>\n",
       "<p>341 rows × 2 columns</p>\n",
       "</div>"
      ]
     },
     "execution_count": 180,
     "metadata": {},
     "output_type": "execute_result"
    }
   ],
   "execution_count": 180
  },
  {
   "cell_type": "markdown",
   "id": "381ea93e57418fb8",
   "metadata": {},
   "source": [
    "## German"
   ]
  },
  {
   "cell_type": "code",
   "id": "5fe970210be6a4bb",
   "metadata": {
    "ExecuteTime": {
     "end_time": "2024-08-21T14:04:04.452126Z",
     "start_time": "2024-08-21T14:04:04.435382Z"
    }
   },
   "source": [
    "de_df = extract_lang_df(original_df, model_dfs, 'de')\n",
    "de_df.head()"
   ],
   "outputs": [
    {
     "data": {
      "text/plain": [
       "    score_llama31  score_gemma2B  score_gemma  score_aya     score    label  \\\n",
       "id                                                                            \n",
       "0             NaN            NaN          NaN        NaN  0.941176  correct   \n",
       "1             NaN            NaN          NaN        NaN  1.000000  correct   \n",
       "2             NaN            NaN          NaN        NaN  1.000000  correct   \n",
       "3             NaN            NaN          NaN        NaN  1.000000  correct   \n",
       "4             NaN            NaN          NaN        NaN  1.000000  correct   \n",
       "\n",
       "                                      content_llama31  \\\n",
       "id                                                      \n",
       "0   Die meisten Universitätsabschlüsse sind nicht ...   \n",
       "1                 Sie sind deshalb von geringem Wert.   \n",
       "2                   Darüber sage ich zu dieser Frage:   \n",
       "3   Ich verstehe nicht richtig, was du meinst. Bit...   \n",
       "4                        Das ist tragisch, aber wahr.   \n",
       "\n",
       "                                      content_gemma2B  \\\n",
       "id                                                      \n",
       "0   Die meisten universitären Abschlüsse sind nich...   \n",
       "1              Sie sind deshalb von geringem Wert. \\n   \n",
       "2                  Darum sage ich zu dieser Frage. \\n   \n",
       "3                                      Ja und Nein \\n   \n",
       "4                      Das ist traurig, aber wahr. \\n   \n",
       "\n",
       "                                        content_gemma  \\\n",
       "id                                                      \n",
       "0   Die meisten Universitätsabschlüsse sind nicht ...   \n",
       "1              Sie sind deshalb von geringem Wert. \\n   \n",
       "2                 Darum sage ich dazu diese Frage: \\n   \n",
       "3                                     Ja und Nein. \\n   \n",
       "4                     Das ist tragisch, aber wahr. \\n   \n",
       "\n",
       "                                          content_aya  \\\n",
       "id                                                      \n",
       "0   Die meisten Universitätsabschlüsse sind nicht ...   \n",
       "1                Sie sind deswegen von geringem Wert.   \n",
       "2   Darauf möchte ich mit einer Gegenfrage antworten:   \n",
       "3                                      \"Ja und nein.\"   \n",
       "4                        Das ist tragisch, aber wahr.   \n",
       "\n",
       "                                              content  \n",
       "id                                                     \n",
       "0   4 Die meisten Universitätsabschlüsse sind nich...  \n",
       "1                Sie sind deswegen von geringem Wert.  \n",
       "2                     Darum sage ich zu dieser Frage:  \n",
       "3                                  \\\" Ja und nein \\\".  \n",
       "4                        Das ist tragisch, aber wahr.  "
      ],
      "text/html": [
       "<div>\n",
       "<style scoped>\n",
       "    .dataframe tbody tr th:only-of-type {\n",
       "        vertical-align: middle;\n",
       "    }\n",
       "\n",
       "    .dataframe tbody tr th {\n",
       "        vertical-align: top;\n",
       "    }\n",
       "\n",
       "    .dataframe thead th {\n",
       "        text-align: right;\n",
       "    }\n",
       "</style>\n",
       "<table border=\"1\" class=\"dataframe\">\n",
       "  <thead>\n",
       "    <tr style=\"text-align: right;\">\n",
       "      <th></th>\n",
       "      <th>score_llama31</th>\n",
       "      <th>score_gemma2B</th>\n",
       "      <th>score_gemma</th>\n",
       "      <th>score_aya</th>\n",
       "      <th>score</th>\n",
       "      <th>label</th>\n",
       "      <th>content_llama31</th>\n",
       "      <th>content_gemma2B</th>\n",
       "      <th>content_gemma</th>\n",
       "      <th>content_aya</th>\n",
       "      <th>content</th>\n",
       "    </tr>\n",
       "    <tr>\n",
       "      <th>id</th>\n",
       "      <th></th>\n",
       "      <th></th>\n",
       "      <th></th>\n",
       "      <th></th>\n",
       "      <th></th>\n",
       "      <th></th>\n",
       "      <th></th>\n",
       "      <th></th>\n",
       "      <th></th>\n",
       "      <th></th>\n",
       "      <th></th>\n",
       "    </tr>\n",
       "  </thead>\n",
       "  <tbody>\n",
       "    <tr>\n",
       "      <th>0</th>\n",
       "      <td>NaN</td>\n",
       "      <td>NaN</td>\n",
       "      <td>NaN</td>\n",
       "      <td>NaN</td>\n",
       "      <td>0.941176</td>\n",
       "      <td>correct</td>\n",
       "      <td>Die meisten Universitätsabschlüsse sind nicht ...</td>\n",
       "      <td>Die meisten universitären Abschlüsse sind nich...</td>\n",
       "      <td>Die meisten Universitätsabschlüsse sind nicht ...</td>\n",
       "      <td>Die meisten Universitätsabschlüsse sind nicht ...</td>\n",
       "      <td>4 Die meisten Universitätsabschlüsse sind nich...</td>\n",
       "    </tr>\n",
       "    <tr>\n",
       "      <th>1</th>\n",
       "      <td>NaN</td>\n",
       "      <td>NaN</td>\n",
       "      <td>NaN</td>\n",
       "      <td>NaN</td>\n",
       "      <td>1.000000</td>\n",
       "      <td>correct</td>\n",
       "      <td>Sie sind deshalb von geringem Wert.</td>\n",
       "      <td>Sie sind deshalb von geringem Wert. \\n</td>\n",
       "      <td>Sie sind deshalb von geringem Wert. \\n</td>\n",
       "      <td>Sie sind deswegen von geringem Wert.</td>\n",
       "      <td>Sie sind deswegen von geringem Wert.</td>\n",
       "    </tr>\n",
       "    <tr>\n",
       "      <th>2</th>\n",
       "      <td>NaN</td>\n",
       "      <td>NaN</td>\n",
       "      <td>NaN</td>\n",
       "      <td>NaN</td>\n",
       "      <td>1.000000</td>\n",
       "      <td>correct</td>\n",
       "      <td>Darüber sage ich zu dieser Frage:</td>\n",
       "      <td>Darum sage ich zu dieser Frage. \\n</td>\n",
       "      <td>Darum sage ich dazu diese Frage: \\n</td>\n",
       "      <td>Darauf möchte ich mit einer Gegenfrage antworten:</td>\n",
       "      <td>Darum sage ich zu dieser Frage:</td>\n",
       "    </tr>\n",
       "    <tr>\n",
       "      <th>3</th>\n",
       "      <td>NaN</td>\n",
       "      <td>NaN</td>\n",
       "      <td>NaN</td>\n",
       "      <td>NaN</td>\n",
       "      <td>1.000000</td>\n",
       "      <td>correct</td>\n",
       "      <td>Ich verstehe nicht richtig, was du meinst. Bit...</td>\n",
       "      <td>Ja und Nein \\n</td>\n",
       "      <td>Ja und Nein. \\n</td>\n",
       "      <td>\"Ja und nein.\"</td>\n",
       "      <td>\\\" Ja und nein \\\".</td>\n",
       "    </tr>\n",
       "    <tr>\n",
       "      <th>4</th>\n",
       "      <td>NaN</td>\n",
       "      <td>NaN</td>\n",
       "      <td>NaN</td>\n",
       "      <td>NaN</td>\n",
       "      <td>1.000000</td>\n",
       "      <td>correct</td>\n",
       "      <td>Das ist tragisch, aber wahr.</td>\n",
       "      <td>Das ist traurig, aber wahr. \\n</td>\n",
       "      <td>Das ist tragisch, aber wahr. \\n</td>\n",
       "      <td>Das ist tragisch, aber wahr.</td>\n",
       "      <td>Das ist tragisch, aber wahr.</td>\n",
       "    </tr>\n",
       "  </tbody>\n",
       "</table>\n",
       "</div>"
      ]
     },
     "execution_count": 181,
     "metadata": {},
     "output_type": "execute_result"
    }
   ],
   "execution_count": 181
  },
  {
   "cell_type": "code",
   "id": "af73866910f44d12",
   "metadata": {
    "ExecuteTime": {
     "end_time": "2024-08-21T14:04:04.600071Z",
     "start_time": "2024-08-21T14:04:04.597600Z"
    }
   },
   "source": "show_metrics(de_df)",
   "outputs": [
    {
     "name": "stdout",
     "output_type": "stream",
     "text": [
      "Mean score on original dataset: 0.875\n",
      "\n",
      "gemma: nan\n",
      "llama31: nan\n",
      "gemma2B: nan\n",
      "aya: nan\n"
     ]
    }
   ],
   "execution_count": 182
  },
  {
   "metadata": {
    "ExecuteTime": {
     "end_time": "2024-08-21T14:04:04.764443Z",
     "start_time": "2024-08-21T14:04:04.760983Z"
    }
   },
   "cell_type": "code",
   "source": [
    "print(\"correct only\")\n",
    "show_metrics(de_df[de_df['label'] == 'correct'])"
   ],
   "id": "6db964c02f27aaa7",
   "outputs": [
    {
     "name": "stdout",
     "output_type": "stream",
     "text": [
      "correct only\n",
      "Mean score on original dataset: 0.954\n",
      "\n",
      "gemma: nan\n",
      "llama31: nan\n",
      "gemma2B: nan\n",
      "aya: nan\n"
     ]
    }
   ],
   "execution_count": 183
  },
  {
   "metadata": {
    "ExecuteTime": {
     "end_time": "2024-08-21T14:04:04.942048Z",
     "start_time": "2024-08-21T14:04:04.937252Z"
    }
   },
   "cell_type": "code",
   "source": [
    "print(\"incorrect only\")\n",
    "show_metrics(de_df[de_df['label'] == 'incorrect'])"
   ],
   "id": "896590bcbbbde3ad",
   "outputs": [
    {
     "name": "stdout",
     "output_type": "stream",
     "text": [
      "incorrect only\n",
      "Mean score on original dataset: 0.849\n",
      "\n",
      "gemma: nan\n",
      "llama31: nan\n",
      "gemma2B: nan\n",
      "aya: nan\n"
     ]
    }
   ],
   "execution_count": 184
  },
  {
   "cell_type": "code",
   "id": "34f3abfea2daa31a",
   "metadata": {
    "ExecuteTime": {
     "end_time": "2024-08-21T14:04:05.152682Z",
     "start_time": "2024-08-21T14:04:05.093680Z"
    }
   },
   "source": [
    "plot_hist(de_df)"
   ],
   "outputs": [
    {
     "data": {
      "text/plain": [
       "<Figure size 640x480 with 1 Axes>"
      ],
      "image/png": "[encoded data removed]"
     },
     "metadata": {},
     "output_type": "display_data"
    }
   ],
   "execution_count": 185
  },
  {
   "cell_type": "code",
   "id": "4022933cb2eb5ed8",
   "metadata": {
    "ExecuteTime": {
     "end_time": "2024-08-21T14:04:07.262786Z",
     "start_time": "2024-08-21T14:04:07.256225Z"
    }
   },
   "source": [
    "de_df[(de_df['score'] != 1) & (de_df['label'] == 'correct')][['content', 'score']].sort_values('score')"
   ],
   "outputs": [
    {
     "data": {
      "text/plain": [
       "                                               content     score\n",
       "id                                                              \n",
       "493                                           gekauft.  0.000000\n",
       "412                                            online.  0.000000\n",
       "618          Hoffentlich bis bald Katharina 27.02.2012  0.400000\n",
       "531                                       Viele Grüße.  0.500000\n",
       "490                                         war schön.  0.500000\n",
       "..                                                 ...       ...\n",
       "105  Dieses Phänomen ist ein wichtiges Problem in a...  0.960000\n",
       "360  In diesem Text „Ist es sinnvoll, auch im Ausla...  0.960000\n",
       "60   Ich denke besonders an die vielen Kinder, Taus...  0.961538\n",
       "304  Ich werde von meinen Bekannten danach gefragt,...  0.962963\n",
       "62   Sie haben nichts geleistet, um ihr Geld zu bek...  0.966667\n",
       "\n",
       "[176 rows x 2 columns]"
      ],
      "text/html": [
       "<div>\n",
       "<style scoped>\n",
       "    .dataframe tbody tr th:only-of-type {\n",
       "        vertical-align: middle;\n",
       "    }\n",
       "\n",
       "    .dataframe tbody tr th {\n",
       "        vertical-align: top;\n",
       "    }\n",
       "\n",
       "    .dataframe thead th {\n",
       "        text-align: right;\n",
       "    }\n",
       "</style>\n",
       "<table border=\"1\" class=\"dataframe\">\n",
       "  <thead>\n",
       "    <tr style=\"text-align: right;\">\n",
       "      <th></th>\n",
       "      <th>content</th>\n",
       "      <th>score</th>\n",
       "    </tr>\n",
       "    <tr>\n",
       "      <th>id</th>\n",
       "      <th></th>\n",
       "      <th></th>\n",
       "    </tr>\n",
       "  </thead>\n",
       "  <tbody>\n",
       "    <tr>\n",
       "      <th>493</th>\n",
       "      <td>gekauft.</td>\n",
       "      <td>0.000000</td>\n",
       "    </tr>\n",
       "    <tr>\n",
       "      <th>412</th>\n",
       "      <td>online.</td>\n",
       "      <td>0.000000</td>\n",
       "    </tr>\n",
       "    <tr>\n",
       "      <th>618</th>\n",
       "      <td>Hoffentlich bis bald Katharina 27.02.2012</td>\n",
       "      <td>0.400000</td>\n",
       "    </tr>\n",
       "    <tr>\n",
       "      <th>531</th>\n",
       "      <td>Viele Grüße.</td>\n",
       "      <td>0.500000</td>\n",
       "    </tr>\n",
       "    <tr>\n",
       "      <th>490</th>\n",
       "      <td>war schön.</td>\n",
       "      <td>0.500000</td>\n",
       "    </tr>\n",
       "    <tr>\n",
       "      <th>...</th>\n",
       "      <td>...</td>\n",
       "      <td>...</td>\n",
       "    </tr>\n",
       "    <tr>\n",
       "      <th>105</th>\n",
       "      <td>Dieses Phänomen ist ein wichtiges Problem in a...</td>\n",
       "      <td>0.960000</td>\n",
       "    </tr>\n",
       "    <tr>\n",
       "      <th>360</th>\n",
       "      <td>In diesem Text „Ist es sinnvoll, auch im Ausla...</td>\n",
       "      <td>0.960000</td>\n",
       "    </tr>\n",
       "    <tr>\n",
       "      <th>60</th>\n",
       "      <td>Ich denke besonders an die vielen Kinder, Taus...</td>\n",
       "      <td>0.961538</td>\n",
       "    </tr>\n",
       "    <tr>\n",
       "      <th>304</th>\n",
       "      <td>Ich werde von meinen Bekannten danach gefragt,...</td>\n",
       "      <td>0.962963</td>\n",
       "    </tr>\n",
       "    <tr>\n",
       "      <th>62</th>\n",
       "      <td>Sie haben nichts geleistet, um ihr Geld zu bek...</td>\n",
       "      <td>0.966667</td>\n",
       "    </tr>\n",
       "  </tbody>\n",
       "</table>\n",
       "<p>176 rows × 2 columns</p>\n",
       "</div>"
      ]
     },
     "execution_count": 186,
     "metadata": {},
     "output_type": "execute_result"
    }
   ],
   "execution_count": 186
  },
  {
   "metadata": {},
   "cell_type": "code",
   "outputs": [],
   "execution_count": null,
   "source": "",
   "id": "eef5bf65b4ed748b"
  }
 ],
 "metadata": {
  "kernelspec": {
   "display_name": "Python 3 (ipykernel)",
   "language": "python",
   "name": "python3"
  },
  "language_info": {
   "codemirror_mode": {
    "name": "ipython",
    "version": 3
   },
   "file_extension": ".py",
   "mimetype": "text/x-python",
   "name": "python",
   "nbconvert_exporter": "python",
   "pygments_lexer": "ipython3",
   "version": "3.9.18"
  }
 },
 "nbformat": 4,
 "nbformat_minor": 5
}
