{
 "cells": [
  {
   "cell_type": "code",
   "id": "initial_id",
   "metadata": {
    "collapsed": true,
    "jupyter": {
     "outputs_hidden": true
    },
    "ExecuteTime": {
     "end_time": "2024-09-03T14:22:55.584298Z",
     "start_time": "2024-09-03T14:22:55.326845Z"
    }
   },
   "source": [
    "import json\n",
    "\n",
    "import matplotlib.pyplot as plt\n",
    "import pandas as pd\n",
    "from tabulate import tabulate\n",
    "from scipy.stats import kendalltau"
   ],
   "outputs": [],
   "execution_count": 2
  },
  {
   "cell_type": "code",
   "id": "ba0a8f6d63ef8cd1",
   "metadata": {
    "ExecuteTime": {
     "end_time": "2024-09-03T14:22:55.734577Z",
     "start_time": "2024-09-03T14:22:55.732315Z"
    }
   },
   "source": [
    "languages = ['en', 'de']\n",
    "models_results_path_format = \"model_outputs/2/%s.json\"\n",
    "models = {\n",
    "    'Aya': 'aya',\n",
    "    'Gemma 2B': 'gemma2B',\n",
    "    'Gemma 9B': 'gemma',\n",
    "    'LLaMa 3.1': 'llama31',\n",
    "    'Mistral': 'mistral',\n",
    "    'Openchat3.5': 'openchat',\n",
    "    'Qwen': 'qwen',\n",
    "    'Yi': 'yi',\n",
    "}"
   ],
   "outputs": [],
   "execution_count": 3
  },
  {
   "cell_type": "code",
   "id": "202a2337b2b4de2e",
   "metadata": {
    "ExecuteTime": {
     "end_time": "2024-09-03T14:22:56.012250Z",
     "start_time": "2024-09-03T14:22:56.010022Z"
    }
   },
   "source": [
    "def load_results(path):\n",
    "    with open(path, 'r') as file:\n",
    "        return json.load(file)"
   ],
   "outputs": [],
   "execution_count": 4
  },
  {
   "cell_type": "code",
   "id": "af76a47d2fbc39aa",
   "metadata": {
    "ExecuteTime": {
     "end_time": "2024-09-03T14:22:56.443191Z",
     "start_time": "2024-09-03T14:22:56.440879Z"
    }
   },
   "source": [
    "def preprocess_json(data):\n",
    "    proper_data = []\n",
    "    for lang in data:\n",
    "        for r in data[lang]:\n",
    "            r['lang'] = lang\n",
    "            if 'quillbot_errors' not in r:\n",
    "                r['quillbot_errors'] = None\n",
    "            proper_data.append(r)\n",
    "    return proper_data"
   ],
   "outputs": [],
   "execution_count": 5
  },
  {
   "cell_type": "code",
   "id": "140844c3650f6b92",
   "metadata": {
    "ExecuteTime": {
     "end_time": "2024-09-03T14:22:57.000467Z",
     "start_time": "2024-09-03T14:22:56.919408Z"
    }
   },
   "source": [
    "original_dataset = preprocess_json(load_results(\"results.json\"))\n",
    "model_datasets = {m: preprocess_json(load_results(models_results_path_format % p)) for m, p in models.items()}"
   ],
   "outputs": [],
   "execution_count": 6
  },
  {
   "cell_type": "code",
   "id": "36997bb43896e491",
   "metadata": {
    "ExecuteTime": {
     "end_time": "2024-09-03T14:22:57.184188Z",
     "start_time": "2024-09-03T14:22:57.181193Z"
    }
   },
   "source": [
    "def get_df(data, model_name):\n",
    "    df = pd.DataFrame(data)\n",
    "\n",
    "    df['model'] = model_name\n",
    "\n",
    "    df = df[df['lang'].isin(languages)]\n",
    "\n",
    "    if 'path' in df.columns:\n",
    "        df = df.drop(columns='path')\n",
    "\n",
    "    df = df[(~df['id'].str.endswith(\"(1).txt\"))]\n",
    "    df = df[(~df['content'].str.isupper())]\n",
    "\n",
    "    df['id'] = df['id'].apply(lambda x: x.replace(\".txt\", \"\").split(\"_\")[1]).astype(int)\n",
    "\n",
    "    df['word_count'] = df['content'].apply(lambda x: len(x.split()))\n",
    "    df['score'] = 1 - (df['quillbot_errors'] / df['word_count'])\n",
    "\n",
    "    return df"
   ],
   "outputs": [],
   "execution_count": 7
  },
  {
   "cell_type": "code",
   "id": "9de92daf11f18e6e",
   "metadata": {
    "ExecuteTime": {
     "end_time": "2024-09-03T14:22:58.129857Z",
     "start_time": "2024-09-03T14:22:57.999382Z"
    }
   },
   "source": [
    "df = get_df(original_dataset, \"original_dataset\")\n",
    "for model, data in model_datasets.items():\n",
    "    df = pd.concat((df, get_df(data, model)))\n",
    "df = df.sort_values('id')"
   ],
   "outputs": [],
   "execution_count": 8
  },
  {
   "metadata": {
    "ExecuteTime": {
     "end_time": "2024-09-03T14:22:58.300520Z",
     "start_time": "2024-09-03T14:22:58.292438Z"
    }
   },
   "cell_type": "code",
   "source": "df.head(20)",
   "id": "b9666a4ef798d23a",
   "outputs": [
    {
     "data": {
      "text/plain": [
       "      id                                            content    label  \\\n",
       "150    0                                  13th June 2000 \\n  correct   \n",
       "150    0                                     13th June 2000  correct   \n",
       "8651   0  Die meisten Universitätsabschlüsse sind nicht ...  correct   \n",
       "9055   0  4 Die meisten Universitätsabschlüsse sind nich...  correct   \n",
       "150    0                                      June 13, 2000  correct   \n",
       "8651   0  Die meisten universitären Abschlüsse sind nich...  correct   \n",
       "150    0                                   June 13, 2000 \\n  correct   \n",
       "8651   0  Die meisten Universitätsabschlüsse sind nicht ...  correct   \n",
       "150    0                                       13 June 2000  correct   \n",
       "8651   0  Die meisten Universitätsabschlüsse sind nicht ...  correct   \n",
       "8651   0  Die meisten Universitätsabschlüsse sind nicht ...  correct   \n",
       "150    0  The date \"13th June 2000\" is correctly written...  correct   \n",
       "150    0  The given text, \"13 th June 2000,\" appears to ...  correct   \n",
       "150    0                               Thirteenth June 2000  correct   \n",
       "8651   0  Die meisten Universitätsabschlüsse sind nicht ...  correct   \n",
       "8651   0  Die meisten Universitätsabschlüsse sind nicht ...  correct   \n",
       "8651   0  Viele Universitätstitel sind nicht praktikorie...  correct   \n",
       "2071   0                                     13th June 2000  correct   \n",
       "7033   1             Sie sind deshalb von geringem Wert. \\n  correct   \n",
       "287    1                                Dear Ms. Helen Ryan  correct   \n",
       "\n",
       "      quillbot_errors lang             model  word_count     score  \n",
       "150               0.0   en          Gemma 9B           3  1.000000  \n",
       "150               0.0   en       Openchat3.5           3  1.000000  \n",
       "8651             11.0   de                Yi          71  0.845070  \n",
       "9055              1.0   de  original_dataset          17  0.941176  \n",
       "150               0.0   en               Aya           3  1.000000  \n",
       "8651              0.0   de          Gemma 2B          17  1.000000  \n",
       "150               0.0   en          Gemma 2B           3  1.000000  \n",
       "8651              1.0   de              Qwen          18  0.944444  \n",
       "150               0.0   en         LLaMa 3.1           3  1.000000  \n",
       "8651              0.0   de         LLaMa 3.1          16  1.000000  \n",
       "8651              0.0   de          Gemma 9B          16  1.000000  \n",
       "150               3.0   en              Qwen          11  0.727273  \n",
       "150               4.0   en                Yi          46  0.913043  \n",
       "150               0.0   en           Mistral           3  1.000000  \n",
       "8651              0.0   de       Openchat3.5          17  1.000000  \n",
       "8651              0.0   de               Aya          16  1.000000  \n",
       "8651              0.0   de           Mistral          15  1.000000  \n",
       "2071              0.0   en  original_dataset           3  1.000000  \n",
       "7033              0.0   de          Gemma 2B           6  1.000000  \n",
       "287               0.0   en           Mistral           4  1.000000  "
      ],
      "text/html": [
       "<div>\n",
       "<style scoped>\n",
       "    .dataframe tbody tr th:only-of-type {\n",
       "        vertical-align: middle;\n",
       "    }\n",
       "\n",
       "    .dataframe tbody tr th {\n",
       "        vertical-align: top;\n",
       "    }\n",
       "\n",
       "    .dataframe thead th {\n",
       "        text-align: right;\n",
       "    }\n",
       "</style>\n",
       "<table border=\"1\" class=\"dataframe\">\n",
       "  <thead>\n",
       "    <tr style=\"text-align: right;\">\n",
       "      <th></th>\n",
       "      <th>id</th>\n",
       "      <th>content</th>\n",
       "      <th>label</th>\n",
       "      <th>quillbot_errors</th>\n",
       "      <th>lang</th>\n",
       "      <th>model</th>\n",
       "      <th>word_count</th>\n",
       "      <th>score</th>\n",
       "    </tr>\n",
       "  </thead>\n",
       "  <tbody>\n",
       "    <tr>\n",
       "      <th>150</th>\n",
       "      <td>0</td>\n",
       "      <td>13th June 2000 \\n</td>\n",
       "      <td>correct</td>\n",
       "      <td>0.0</td>\n",
       "      <td>en</td>\n",
       "      <td>Gemma 9B</td>\n",
       "      <td>3</td>\n",
       "      <td>1.000000</td>\n",
       "    </tr>\n",
       "    <tr>\n",
       "      <th>150</th>\n",
       "      <td>0</td>\n",
       "      <td>13th June 2000</td>\n",
       "      <td>correct</td>\n",
       "      <td>0.0</td>\n",
       "      <td>en</td>\n",
       "      <td>Openchat3.5</td>\n",
       "      <td>3</td>\n",
       "      <td>1.000000</td>\n",
       "    </tr>\n",
       "    <tr>\n",
       "      <th>8651</th>\n",
       "      <td>0</td>\n",
       "      <td>Die meisten Universitätsabschlüsse sind nicht ...</td>\n",
       "      <td>correct</td>\n",
       "      <td>11.0</td>\n",
       "      <td>de</td>\n",
       "      <td>Yi</td>\n",
       "      <td>71</td>\n",
       "      <td>0.845070</td>\n",
       "    </tr>\n",
       "    <tr>\n",
       "      <th>9055</th>\n",
       "      <td>0</td>\n",
       "      <td>4 Die meisten Universitätsabschlüsse sind nich...</td>\n",
       "      <td>correct</td>\n",
       "      <td>1.0</td>\n",
       "      <td>de</td>\n",
       "      <td>original_dataset</td>\n",
       "      <td>17</td>\n",
       "      <td>0.941176</td>\n",
       "    </tr>\n",
       "    <tr>\n",
       "      <th>150</th>\n",
       "      <td>0</td>\n",
       "      <td>June 13, 2000</td>\n",
       "      <td>correct</td>\n",
       "      <td>0.0</td>\n",
       "      <td>en</td>\n",
       "      <td>Aya</td>\n",
       "      <td>3</td>\n",
       "      <td>1.000000</td>\n",
       "    </tr>\n",
       "    <tr>\n",
       "      <th>8651</th>\n",
       "      <td>0</td>\n",
       "      <td>Die meisten universitären Abschlüsse sind nich...</td>\n",
       "      <td>correct</td>\n",
       "      <td>0.0</td>\n",
       "      <td>de</td>\n",
       "      <td>Gemma 2B</td>\n",
       "      <td>17</td>\n",
       "      <td>1.000000</td>\n",
       "    </tr>\n",
       "    <tr>\n",
       "      <th>150</th>\n",
       "      <td>0</td>\n",
       "      <td>June 13, 2000 \\n</td>\n",
       "      <td>correct</td>\n",
       "      <td>0.0</td>\n",
       "      <td>en</td>\n",
       "      <td>Gemma 2B</td>\n",
       "      <td>3</td>\n",
       "      <td>1.000000</td>\n",
       "    </tr>\n",
       "    <tr>\n",
       "      <th>8651</th>\n",
       "      <td>0</td>\n",
       "      <td>Die meisten Universitätsabschlüsse sind nicht ...</td>\n",
       "      <td>correct</td>\n",
       "      <td>1.0</td>\n",
       "      <td>de</td>\n",
       "      <td>Qwen</td>\n",
       "      <td>18</td>\n",
       "      <td>0.944444</td>\n",
       "    </tr>\n",
       "    <tr>\n",
       "      <th>150</th>\n",
       "      <td>0</td>\n",
       "      <td>13 June 2000</td>\n",
       "      <td>correct</td>\n",
       "      <td>0.0</td>\n",
       "      <td>en</td>\n",
       "      <td>LLaMa 3.1</td>\n",
       "      <td>3</td>\n",
       "      <td>1.000000</td>\n",
       "    </tr>\n",
       "    <tr>\n",
       "      <th>8651</th>\n",
       "      <td>0</td>\n",
       "      <td>Die meisten Universitätsabschlüsse sind nicht ...</td>\n",
       "      <td>correct</td>\n",
       "      <td>0.0</td>\n",
       "      <td>de</td>\n",
       "      <td>LLaMa 3.1</td>\n",
       "      <td>16</td>\n",
       "      <td>1.000000</td>\n",
       "    </tr>\n",
       "    <tr>\n",
       "      <th>8651</th>\n",
       "      <td>0</td>\n",
       "      <td>Die meisten Universitätsabschlüsse sind nicht ...</td>\n",
       "      <td>correct</td>\n",
       "      <td>0.0</td>\n",
       "      <td>de</td>\n",
       "      <td>Gemma 9B</td>\n",
       "      <td>16</td>\n",
       "      <td>1.000000</td>\n",
       "    </tr>\n",
       "    <tr>\n",
       "      <th>150</th>\n",
       "      <td>0</td>\n",
       "      <td>The date \"13th June 2000\" is correctly written...</td>\n",
       "      <td>correct</td>\n",
       "      <td>3.0</td>\n",
       "      <td>en</td>\n",
       "      <td>Qwen</td>\n",
       "      <td>11</td>\n",
       "      <td>0.727273</td>\n",
       "    </tr>\n",
       "    <tr>\n",
       "      <th>150</th>\n",
       "      <td>0</td>\n",
       "      <td>The given text, \"13 th June 2000,\" appears to ...</td>\n",
       "      <td>correct</td>\n",
       "      <td>4.0</td>\n",
       "      <td>en</td>\n",
       "      <td>Yi</td>\n",
       "      <td>46</td>\n",
       "      <td>0.913043</td>\n",
       "    </tr>\n",
       "    <tr>\n",
       "      <th>150</th>\n",
       "      <td>0</td>\n",
       "      <td>Thirteenth June 2000</td>\n",
       "      <td>correct</td>\n",
       "      <td>0.0</td>\n",
       "      <td>en</td>\n",
       "      <td>Mistral</td>\n",
       "      <td>3</td>\n",
       "      <td>1.000000</td>\n",
       "    </tr>\n",
       "    <tr>\n",
       "      <th>8651</th>\n",
       "      <td>0</td>\n",
       "      <td>Die meisten Universitätsabschlüsse sind nicht ...</td>\n",
       "      <td>correct</td>\n",
       "      <td>0.0</td>\n",
       "      <td>de</td>\n",
       "      <td>Openchat3.5</td>\n",
       "      <td>17</td>\n",
       "      <td>1.000000</td>\n",
       "    </tr>\n",
       "    <tr>\n",
       "      <th>8651</th>\n",
       "      <td>0</td>\n",
       "      <td>Die meisten Universitätsabschlüsse sind nicht ...</td>\n",
       "      <td>correct</td>\n",
       "      <td>0.0</td>\n",
       "      <td>de</td>\n",
       "      <td>Aya</td>\n",
       "      <td>16</td>\n",
       "      <td>1.000000</td>\n",
       "    </tr>\n",
       "    <tr>\n",
       "      <th>8651</th>\n",
       "      <td>0</td>\n",
       "      <td>Viele Universitätstitel sind nicht praktikorie...</td>\n",
       "      <td>correct</td>\n",
       "      <td>0.0</td>\n",
       "      <td>de</td>\n",
       "      <td>Mistral</td>\n",
       "      <td>15</td>\n",
       "      <td>1.000000</td>\n",
       "    </tr>\n",
       "    <tr>\n",
       "      <th>2071</th>\n",
       "      <td>0</td>\n",
       "      <td>13th June 2000</td>\n",
       "      <td>correct</td>\n",
       "      <td>0.0</td>\n",
       "      <td>en</td>\n",
       "      <td>original_dataset</td>\n",
       "      <td>3</td>\n",
       "      <td>1.000000</td>\n",
       "    </tr>\n",
       "    <tr>\n",
       "      <th>7033</th>\n",
       "      <td>1</td>\n",
       "      <td>Sie sind deshalb von geringem Wert. \\n</td>\n",
       "      <td>correct</td>\n",
       "      <td>0.0</td>\n",
       "      <td>de</td>\n",
       "      <td>Gemma 2B</td>\n",
       "      <td>6</td>\n",
       "      <td>1.000000</td>\n",
       "    </tr>\n",
       "    <tr>\n",
       "      <th>287</th>\n",
       "      <td>1</td>\n",
       "      <td>Dear Ms. Helen Ryan</td>\n",
       "      <td>correct</td>\n",
       "      <td>0.0</td>\n",
       "      <td>en</td>\n",
       "      <td>Mistral</td>\n",
       "      <td>4</td>\n",
       "      <td>1.000000</td>\n",
       "    </tr>\n",
       "  </tbody>\n",
       "</table>\n",
       "</div>"
      ]
     },
     "execution_count": 9,
     "metadata": {},
     "output_type": "execute_result"
    }
   ],
   "execution_count": 9
  },
  {
   "cell_type": "code",
   "id": "71ec853f67a8623a",
   "metadata": {
    "ExecuteTime": {
     "end_time": "2024-09-03T14:22:59.087592Z",
     "start_time": "2024-09-03T14:22:59.084701Z"
    }
   },
   "source": [
    "def plot_hist(d):\n",
    "    plt.hist(d[d['label'] == 'correct']['score'], label='correct', alpha=0.5, bins=10)\n",
    "    plt.hist(d[d['label'] == 'incorrect']['score'], label='incorrect', alpha=0.5, bins=10)\n",
    "    plt.legend(loc='upper left')\n",
    "    plt.show()"
   ],
   "outputs": [],
   "execution_count": 10
  },
  {
   "metadata": {},
   "cell_type": "markdown",
   "source": "## Results",
   "id": "5a870d7fab567086"
  },
  {
   "metadata": {
    "ExecuteTime": {
     "end_time": "2024-09-03T14:22:59.718425Z",
     "start_time": "2024-09-03T14:22:59.708559Z"
    }
   },
   "cell_type": "code",
   "source": [
    "mean_scores = (\n",
    "    df\n",
    "    .groupby(['model', 'lang'])['score']\n",
    "    .mean()\n",
    "    .reset_index()\n",
    "    .pivot(index='model', columns='lang', values='score')\n",
    "    .reset_index()\n",
    ")\n",
    "mean_scores"
   ],
   "id": "b2156d3bf6325937",
   "outputs": [
    {
     "data": {
      "text/plain": [
       "lang             model        de        en\n",
       "0                  Aya  0.969895  0.954598\n",
       "1             Gemma 2B  0.960141  0.984133\n",
       "2             Gemma 9B  0.972174  0.977207\n",
       "3            LLaMa 3.1  0.966889  0.966827\n",
       "4              Mistral  0.899287  0.971860\n",
       "5          Openchat3.5  0.958678  0.982082\n",
       "6                 Qwen  0.934562  0.981479\n",
       "7                   Yi  0.883081  0.976637\n",
       "8     original_dataset  0.875213  0.893109"
      ],
      "text/html": [
       "<div>\n",
       "<style scoped>\n",
       "    .dataframe tbody tr th:only-of-type {\n",
       "        vertical-align: middle;\n",
       "    }\n",
       "\n",
       "    .dataframe tbody tr th {\n",
       "        vertical-align: top;\n",
       "    }\n",
       "\n",
       "    .dataframe thead th {\n",
       "        text-align: right;\n",
       "    }\n",
       "</style>\n",
       "<table border=\"1\" class=\"dataframe\">\n",
       "  <thead>\n",
       "    <tr style=\"text-align: right;\">\n",
       "      <th>lang</th>\n",
       "      <th>model</th>\n",
       "      <th>de</th>\n",
       "      <th>en</th>\n",
       "    </tr>\n",
       "  </thead>\n",
       "  <tbody>\n",
       "    <tr>\n",
       "      <th>0</th>\n",
       "      <td>Aya</td>\n",
       "      <td>0.969895</td>\n",
       "      <td>0.954598</td>\n",
       "    </tr>\n",
       "    <tr>\n",
       "      <th>1</th>\n",
       "      <td>Gemma 2B</td>\n",
       "      <td>0.960141</td>\n",
       "      <td>0.984133</td>\n",
       "    </tr>\n",
       "    <tr>\n",
       "      <th>2</th>\n",
       "      <td>Gemma 9B</td>\n",
       "      <td>0.972174</td>\n",
       "      <td>0.977207</td>\n",
       "    </tr>\n",
       "    <tr>\n",
       "      <th>3</th>\n",
       "      <td>LLaMa 3.1</td>\n",
       "      <td>0.966889</td>\n",
       "      <td>0.966827</td>\n",
       "    </tr>\n",
       "    <tr>\n",
       "      <th>4</th>\n",
       "      <td>Mistral</td>\n",
       "      <td>0.899287</td>\n",
       "      <td>0.971860</td>\n",
       "    </tr>\n",
       "    <tr>\n",
       "      <th>5</th>\n",
       "      <td>Openchat3.5</td>\n",
       "      <td>0.958678</td>\n",
       "      <td>0.982082</td>\n",
       "    </tr>\n",
       "    <tr>\n",
       "      <th>6</th>\n",
       "      <td>Qwen</td>\n",
       "      <td>0.934562</td>\n",
       "      <td>0.981479</td>\n",
       "    </tr>\n",
       "    <tr>\n",
       "      <th>7</th>\n",
       "      <td>Yi</td>\n",
       "      <td>0.883081</td>\n",
       "      <td>0.976637</td>\n",
       "    </tr>\n",
       "    <tr>\n",
       "      <th>8</th>\n",
       "      <td>original_dataset</td>\n",
       "      <td>0.875213</td>\n",
       "      <td>0.893109</td>\n",
       "    </tr>\n",
       "  </tbody>\n",
       "</table>\n",
       "</div>"
      ]
     },
     "execution_count": 11,
     "metadata": {},
     "output_type": "execute_result"
    }
   ],
   "execution_count": 11
  },
  {
   "metadata": {
    "ExecuteTime": {
     "end_time": "2024-09-03T14:22:59.875554Z",
     "start_time": "2024-09-03T14:22:59.870823Z"
    }
   },
   "cell_type": "code",
   "source": [
    "baseline = mean_scores.loc[mean_scores['model'] == 'original_dataset', languages].to_dict('records')[0]\n",
    "rankings = {\n",
    "    l: mean_scores[l].rank(ascending=False, method='min').astype(int) for l in languages\n",
    "}"
   ],
   "id": "c8c94fa4929bf2a1",
   "outputs": [],
   "execution_count": 12
  },
  {
   "metadata": {
    "ExecuteTime": {
     "end_time": "2024-09-03T14:23:00.066044Z",
     "start_time": "2024-09-03T14:23:00.060900Z"
    }
   },
   "cell_type": "code",
   "source": [
    "for l in languages:\n",
    "    mean_scores[l] = mean_scores.apply(lambda row: f\"{row[l]:.3f} ({rankings[l][row.name]})\", axis=1)\n",
    "\n",
    "mean_scores = (\n",
    "    mean_scores[mean_scores['model'] != 'original_dataset']\n",
    "    .rename(columns={lang: f\"{lang} ({baseline[lang]:.3f})\" for lang in languages})\n",
    "    .rename(columns={'model': 'Model'})\n",
    "    .round(3)\n",
    ")\n",
    "print(mean_scores.to_string(index=False))"
   ],
   "id": "51173ad3887a90c1",
   "outputs": [
    {
     "name": "stdout",
     "output_type": "stream",
     "text": [
      "      Model de (0.875) en (0.893)\n",
      "        Aya  0.970 (2)  0.955 (8)\n",
      "   Gemma 2B  0.960 (4)  0.984 (1)\n",
      "   Gemma 9B  0.972 (1)  0.977 (4)\n",
      "  LLaMa 3.1  0.967 (3)  0.967 (7)\n",
      "    Mistral  0.899 (7)  0.972 (6)\n",
      "Openchat3.5  0.959 (5)  0.982 (2)\n",
      "       Qwen  0.935 (6)  0.981 (3)\n",
      "         Yi  0.883 (8)  0.977 (5)\n"
     ]
    }
   ],
   "execution_count": 13
  },
  {
   "metadata": {
    "ExecuteTime": {
     "end_time": "2024-09-03T14:23:00.408382Z",
     "start_time": "2024-09-03T14:23:00.404724Z"
    }
   },
   "cell_type": "code",
   "source": "print(tabulate(mean_scores, headers='keys', tablefmt='latex', showindex=False))",
   "id": "1dfa0ab4e615d38",
   "outputs": [
    {
     "name": "stdout",
     "output_type": "stream",
     "text": [
      "\\begin{tabular}{lll}\n",
      "\\hline\n",
      " Model       & de (0.875)   & en (0.893)   \\\\\n",
      "\\hline\n",
      " Aya         & 0.970 (2)    & 0.955 (8)    \\\\\n",
      " Gemma 2B    & 0.960 (4)    & 0.984 (1)    \\\\\n",
      " Gemma 9B    & 0.972 (1)    & 0.977 (4)    \\\\\n",
      " LLaMa 3.1   & 0.967 (3)    & 0.967 (7)    \\\\\n",
      " Mistral     & 0.899 (7)    & 0.972 (6)    \\\\\n",
      " Openchat3.5 & 0.959 (5)    & 0.982 (2)    \\\\\n",
      " Qwen        & 0.935 (6)    & 0.981 (3)    \\\\\n",
      " Yi          & 0.883 (8)    & 0.977 (5)    \\\\\n",
      "\\hline\n",
      "\\end{tabular}\n"
     ]
    }
   ],
   "execution_count": 14
  },
  {
   "metadata": {},
   "cell_type": "markdown",
   "source": "#### Correlation between rankings?",
   "id": "814a4306e6a3a98"
  },
  {
   "metadata": {
    "ExecuteTime": {
     "end_time": "2024-09-03T14:23:00.893951Z",
     "start_time": "2024-09-03T14:23:00.887886Z"
    }
   },
   "cell_type": "code",
   "source": [
    "language_tool_results = [\n",
    "    {\n",
    "        'model': 'Aya',\n",
    "        'en': 0.919,\n",
    "        'de': 0.972\n",
    "    },\n",
    "    {\n",
    "        'model': 'Gemma 2B',\n",
    "        'en': 0.963,\n",
    "        'de': 0.951\n",
    "    },\n",
    "    {\n",
    "        'model': 'Gemma 9B',\n",
    "        'en': 0.949,\n",
    "        'de': 0.940\n",
    "    },\n",
    "    {\n",
    "        'model': 'LLaMa 3.1',\n",
    "        'en': 0.939,\n",
    "        'de': 0.958\n",
    "    },\n",
    "    {\n",
    "        'model': 'Mistral',\n",
    "        'en': 0.958,\n",
    "        'de': 0.895\n",
    "    },\n",
    "    {\n",
    "        'model': 'Openchat3.5',\n",
    "        'en': 0.948,\n",
    "        'de': 0.954\n",
    "    },\n",
    "    {\n",
    "        'model': 'Qwen',\n",
    "        'en': 0.963,\n",
    "        'de': 0.924\n",
    "    },\n",
    "    {\n",
    "        'model': 'Yi',\n",
    "        'en': 0.774,\n",
    "        'de': 0.780\n",
    "    },\n",
    "    {\n",
    "        'model': 'Original Dataset',\n",
    "        'en': 0.754,\n",
    "        'de': 0.740\n",
    "    }\n",
    "]\n",
    "\n",
    "lt_df = pd.DataFrame(language_tool_results)\n",
    "lt_df"
   ],
   "id": "2d98e0a13ef86eaa",
   "outputs": [
    {
     "data": {
      "text/plain": [
       "              model     en     de\n",
       "0               Aya  0.919  0.972\n",
       "1          Gemma 2B  0.963  0.951\n",
       "2          Gemma 9B  0.949  0.940\n",
       "3         LLaMa 3.1  0.939  0.958\n",
       "4           Mistral  0.958  0.895\n",
       "5       Openchat3.5  0.948  0.954\n",
       "6              Qwen  0.963  0.924\n",
       "7                Yi  0.774  0.780\n",
       "8  Original Dataset  0.754  0.740"
      ],
      "text/html": [
       "<div>\n",
       "<style scoped>\n",
       "    .dataframe tbody tr th:only-of-type {\n",
       "        vertical-align: middle;\n",
       "    }\n",
       "\n",
       "    .dataframe tbody tr th {\n",
       "        vertical-align: top;\n",
       "    }\n",
       "\n",
       "    .dataframe thead th {\n",
       "        text-align: right;\n",
       "    }\n",
       "</style>\n",
       "<table border=\"1\" class=\"dataframe\">\n",
       "  <thead>\n",
       "    <tr style=\"text-align: right;\">\n",
       "      <th></th>\n",
       "      <th>model</th>\n",
       "      <th>en</th>\n",
       "      <th>de</th>\n",
       "    </tr>\n",
       "  </thead>\n",
       "  <tbody>\n",
       "    <tr>\n",
       "      <th>0</th>\n",
       "      <td>Aya</td>\n",
       "      <td>0.919</td>\n",
       "      <td>0.972</td>\n",
       "    </tr>\n",
       "    <tr>\n",
       "      <th>1</th>\n",
       "      <td>Gemma 2B</td>\n",
       "      <td>0.963</td>\n",
       "      <td>0.951</td>\n",
       "    </tr>\n",
       "    <tr>\n",
       "      <th>2</th>\n",
       "      <td>Gemma 9B</td>\n",
       "      <td>0.949</td>\n",
       "      <td>0.940</td>\n",
       "    </tr>\n",
       "    <tr>\n",
       "      <th>3</th>\n",
       "      <td>LLaMa 3.1</td>\n",
       "      <td>0.939</td>\n",
       "      <td>0.958</td>\n",
       "    </tr>\n",
       "    <tr>\n",
       "      <th>4</th>\n",
       "      <td>Mistral</td>\n",
       "      <td>0.958</td>\n",
       "      <td>0.895</td>\n",
       "    </tr>\n",
       "    <tr>\n",
       "      <th>5</th>\n",
       "      <td>Openchat3.5</td>\n",
       "      <td>0.948</td>\n",
       "      <td>0.954</td>\n",
       "    </tr>\n",
       "    <tr>\n",
       "      <th>6</th>\n",
       "      <td>Qwen</td>\n",
       "      <td>0.963</td>\n",
       "      <td>0.924</td>\n",
       "    </tr>\n",
       "    <tr>\n",
       "      <th>7</th>\n",
       "      <td>Yi</td>\n",
       "      <td>0.774</td>\n",
       "      <td>0.780</td>\n",
       "    </tr>\n",
       "    <tr>\n",
       "      <th>8</th>\n",
       "      <td>Original Dataset</td>\n",
       "      <td>0.754</td>\n",
       "      <td>0.740</td>\n",
       "    </tr>\n",
       "  </tbody>\n",
       "</table>\n",
       "</div>"
      ]
     },
     "execution_count": 15,
     "metadata": {},
     "output_type": "execute_result"
    }
   ],
   "execution_count": 15
  },
  {
   "metadata": {
    "ExecuteTime": {
     "end_time": "2024-09-03T14:23:01.054547Z",
     "start_time": "2024-09-03T14:23:01.052446Z"
    }
   },
   "cell_type": "code",
   "source": [
    "lt_rankings = {\n",
    "    l: lt_df[l].rank(ascending=False, method='min').astype(int) for l in languages\n",
    "}"
   ],
   "id": "2fa392510bd5803",
   "outputs": [],
   "execution_count": 16
  },
  {
   "metadata": {
    "ExecuteTime": {
     "end_time": "2024-09-03T14:23:01.214700Z",
     "start_time": "2024-09-03T14:23:01.212085Z"
    }
   },
   "cell_type": "code",
   "source": [
    "for l in languages:\n",
    "    print(\"Kendall's tau for\", l)\n",
    "    print(kendalltau(rankings[l].values, lt_rankings[l].values))"
   ],
   "id": "72f949d5b26ff287",
   "outputs": [
    {
     "name": "stdout",
     "output_type": "stream",
     "text": [
      "Kendall's tau for en\n",
      "SignificanceResult(statistic=0.5916079783099616, pvalue=0.027707849358079868)\n",
      "Kendall's tau for de\n",
      "SignificanceResult(statistic=0.7222222222222222, pvalue=0.0058862433862433864)\n"
     ]
    }
   ],
   "execution_count": 17
  },
  {
   "cell_type": "markdown",
   "id": "51d7d5dcc76e7049",
   "metadata": {},
   "source": [
    "## English"
   ]
  },
  {
   "metadata": {
    "ExecuteTime": {
     "end_time": "2024-09-03T14:23:01.758508Z",
     "start_time": "2024-09-03T14:23:01.747490Z"
    }
   },
   "cell_type": "code",
   "source": [
    "print(\"correct only\")\n",
    "df[(df['lang'] == 'en')\n",
    "   & (df['label'] == 'correct')][['score', 'model']].groupby('model').mean().sort_values('score', ascending=False)"
   ],
   "id": "42d1665ba0b55084",
   "outputs": [
    {
     "name": "stdout",
     "output_type": "stream",
     "text": [
      "correct only\n"
     ]
    },
    {
     "data": {
      "text/plain": [
       "                     score\n",
       "model                     \n",
       "Gemma 2B          0.987716\n",
       "Openchat3.5       0.983645\n",
       "Qwen              0.982885\n",
       "Yi                0.979438\n",
       "Gemma 9B          0.979333\n",
       "LLaMa 3.1         0.975915\n",
       "Aya               0.968800\n",
       "Mistral           0.965833\n",
       "original_dataset  0.936599"
      ],
      "text/html": [
       "<div>\n",
       "<style scoped>\n",
       "    .dataframe tbody tr th:only-of-type {\n",
       "        vertical-align: middle;\n",
       "    }\n",
       "\n",
       "    .dataframe tbody tr th {\n",
       "        vertical-align: top;\n",
       "    }\n",
       "\n",
       "    .dataframe thead th {\n",
       "        text-align: right;\n",
       "    }\n",
       "</style>\n",
       "<table border=\"1\" class=\"dataframe\">\n",
       "  <thead>\n",
       "    <tr style=\"text-align: right;\">\n",
       "      <th></th>\n",
       "      <th>score</th>\n",
       "    </tr>\n",
       "    <tr>\n",
       "      <th>model</th>\n",
       "      <th></th>\n",
       "    </tr>\n",
       "  </thead>\n",
       "  <tbody>\n",
       "    <tr>\n",
       "      <th>Gemma 2B</th>\n",
       "      <td>0.987716</td>\n",
       "    </tr>\n",
       "    <tr>\n",
       "      <th>Openchat3.5</th>\n",
       "      <td>0.983645</td>\n",
       "    </tr>\n",
       "    <tr>\n",
       "      <th>Qwen</th>\n",
       "      <td>0.982885</td>\n",
       "    </tr>\n",
       "    <tr>\n",
       "      <th>Yi</th>\n",
       "      <td>0.979438</td>\n",
       "    </tr>\n",
       "    <tr>\n",
       "      <th>Gemma 9B</th>\n",
       "      <td>0.979333</td>\n",
       "    </tr>\n",
       "    <tr>\n",
       "      <th>LLaMa 3.1</th>\n",
       "      <td>0.975915</td>\n",
       "    </tr>\n",
       "    <tr>\n",
       "      <th>Aya</th>\n",
       "      <td>0.968800</td>\n",
       "    </tr>\n",
       "    <tr>\n",
       "      <th>Mistral</th>\n",
       "      <td>0.965833</td>\n",
       "    </tr>\n",
       "    <tr>\n",
       "      <th>original_dataset</th>\n",
       "      <td>0.936599</td>\n",
       "    </tr>\n",
       "  </tbody>\n",
       "</table>\n",
       "</div>"
      ]
     },
     "execution_count": 18,
     "metadata": {},
     "output_type": "execute_result"
    }
   ],
   "execution_count": 18
  },
  {
   "metadata": {
    "ExecuteTime": {
     "end_time": "2024-09-03T14:23:01.934609Z",
     "start_time": "2024-09-03T14:23:01.922624Z"
    }
   },
   "cell_type": "code",
   "source": [
    "print(\"incorrect only\")\n",
    "df[(df['lang'] == 'en')\n",
    "   & (df['label'] == 'incorrect')][['score', 'model']].groupby('model').mean().sort_values('score', ascending=False)"
   ],
   "id": "f9c6f30b58b46faf",
   "outputs": [
    {
     "name": "stdout",
     "output_type": "stream",
     "text": [
      "incorrect only\n"
     ]
    },
    {
     "data": {
      "text/plain": [
       "                     score\n",
       "model                     \n",
       "Gemma 2B          0.981634\n",
       "Openchat3.5       0.980981\n",
       "Qwen              0.980484\n",
       "Mistral           0.976109\n",
       "Gemma 9B          0.975711\n",
       "Yi                0.974659\n",
       "LLaMa 3.1         0.960434\n",
       "Aya               0.944669\n",
       "original_dataset  0.862416"
      ],
      "text/html": [
       "<div>\n",
       "<style scoped>\n",
       "    .dataframe tbody tr th:only-of-type {\n",
       "        vertical-align: middle;\n",
       "    }\n",
       "\n",
       "    .dataframe tbody tr th {\n",
       "        vertical-align: top;\n",
       "    }\n",
       "\n",
       "    .dataframe thead th {\n",
       "        text-align: right;\n",
       "    }\n",
       "</style>\n",
       "<table border=\"1\" class=\"dataframe\">\n",
       "  <thead>\n",
       "    <tr style=\"text-align: right;\">\n",
       "      <th></th>\n",
       "      <th>score</th>\n",
       "    </tr>\n",
       "    <tr>\n",
       "      <th>model</th>\n",
       "      <th></th>\n",
       "    </tr>\n",
       "  </thead>\n",
       "  <tbody>\n",
       "    <tr>\n",
       "      <th>Gemma 2B</th>\n",
       "      <td>0.981634</td>\n",
       "    </tr>\n",
       "    <tr>\n",
       "      <th>Openchat3.5</th>\n",
       "      <td>0.980981</td>\n",
       "    </tr>\n",
       "    <tr>\n",
       "      <th>Qwen</th>\n",
       "      <td>0.980484</td>\n",
       "    </tr>\n",
       "    <tr>\n",
       "      <th>Mistral</th>\n",
       "      <td>0.976109</td>\n",
       "    </tr>\n",
       "    <tr>\n",
       "      <th>Gemma 9B</th>\n",
       "      <td>0.975711</td>\n",
       "    </tr>\n",
       "    <tr>\n",
       "      <th>Yi</th>\n",
       "      <td>0.974659</td>\n",
       "    </tr>\n",
       "    <tr>\n",
       "      <th>LLaMa 3.1</th>\n",
       "      <td>0.960434</td>\n",
       "    </tr>\n",
       "    <tr>\n",
       "      <th>Aya</th>\n",
       "      <td>0.944669</td>\n",
       "    </tr>\n",
       "    <tr>\n",
       "      <th>original_dataset</th>\n",
       "      <td>0.862416</td>\n",
       "    </tr>\n",
       "  </tbody>\n",
       "</table>\n",
       "</div>"
      ]
     },
     "execution_count": 19,
     "metadata": {},
     "output_type": "execute_result"
    }
   ],
   "execution_count": 19
  },
  {
   "cell_type": "code",
   "id": "f8e69083333cd26e",
   "metadata": {
    "ExecuteTime": {
     "end_time": "2024-09-03T14:23:02.442078Z",
     "start_time": "2024-09-03T14:23:02.326725Z"
    }
   },
   "source": "plot_hist(df[(df['lang'] == 'en') & (df['model'] == 'original_dataset')])",
   "outputs": [
    {
     "data": {
      "text/plain": [
       "<Figure size 640x480 with 1 Axes>"
      ],
      "image/png": "[encoded data removed]"
     },
     "metadata": {},
     "output_type": "display_data"
    }
   ],
   "execution_count": 20
  },
  {
   "cell_type": "code",
   "id": "31f20552bd137fdc",
   "metadata": {
    "ExecuteTime": {
     "end_time": "2024-09-03T14:23:02.734211Z",
     "start_time": "2024-09-03T14:23:02.718224Z"
    }
   },
   "source": [
    "df[(df['lang'] == 'en')\n",
    "   & (df['model'] == 'original_dataset')\n",
    "   & (df['score'] != 1)\n",
    "   & (df['label'] == 'correct')][['content', 'score']].sort_values('score')"
   ],
   "outputs": [
    {
     "data": {
      "text/plain": [
       "                                                content     score\n",
       "2152                                      Ms MARIA AROZ  0.000000\n",
       "1107                                    13th June, 2000  0.333333\n",
       "2113                                   DEAR Helen Ryan,  0.333333\n",
       "1206                                 Dear Mr Robertson.  0.333333\n",
       "1079                                    13th June, 2000  0.333333\n",
       "...                                                 ...       ...\n",
       "1113  I've never been camping before, I guess I'm no...  0.961538\n",
       "349   I am very proud that I won first prize in your...  0.962963\n",
       "2022  With regard to the date of the trip, July woul...  0.964286\n",
       "2003  We would have to forgo the shopping as we migh...  0.964286\n",
       "1156  Finally, when the musical show finished, and I...  0.970588\n",
       "\n",
       "[341 rows x 2 columns]"
      ],
      "text/html": [
       "<div>\n",
       "<style scoped>\n",
       "    .dataframe tbody tr th:only-of-type {\n",
       "        vertical-align: middle;\n",
       "    }\n",
       "\n",
       "    .dataframe tbody tr th {\n",
       "        vertical-align: top;\n",
       "    }\n",
       "\n",
       "    .dataframe thead th {\n",
       "        text-align: right;\n",
       "    }\n",
       "</style>\n",
       "<table border=\"1\" class=\"dataframe\">\n",
       "  <thead>\n",
       "    <tr style=\"text-align: right;\">\n",
       "      <th></th>\n",
       "      <th>content</th>\n",
       "      <th>score</th>\n",
       "    </tr>\n",
       "  </thead>\n",
       "  <tbody>\n",
       "    <tr>\n",
       "      <th>2152</th>\n",
       "      <td>Ms MARIA AROZ</td>\n",
       "      <td>0.000000</td>\n",
       "    </tr>\n",
       "    <tr>\n",
       "      <th>1107</th>\n",
       "      <td>13th June, 2000</td>\n",
       "      <td>0.333333</td>\n",
       "    </tr>\n",
       "    <tr>\n",
       "      <th>2113</th>\n",
       "      <td>DEAR Helen Ryan,</td>\n",
       "      <td>0.333333</td>\n",
       "    </tr>\n",
       "    <tr>\n",
       "      <th>1206</th>\n",
       "      <td>Dear Mr Robertson.</td>\n",
       "      <td>0.333333</td>\n",
       "    </tr>\n",
       "    <tr>\n",
       "      <th>1079</th>\n",
       "      <td>13th June, 2000</td>\n",
       "      <td>0.333333</td>\n",
       "    </tr>\n",
       "    <tr>\n",
       "      <th>...</th>\n",
       "      <td>...</td>\n",
       "      <td>...</td>\n",
       "    </tr>\n",
       "    <tr>\n",
       "      <th>1113</th>\n",
       "      <td>I've never been camping before, I guess I'm no...</td>\n",
       "      <td>0.961538</td>\n",
       "    </tr>\n",
       "    <tr>\n",
       "      <th>349</th>\n",
       "      <td>I am very proud that I won first prize in your...</td>\n",
       "      <td>0.962963</td>\n",
       "    </tr>\n",
       "    <tr>\n",
       "      <th>2022</th>\n",
       "      <td>With regard to the date of the trip, July woul...</td>\n",
       "      <td>0.964286</td>\n",
       "    </tr>\n",
       "    <tr>\n",
       "      <th>2003</th>\n",
       "      <td>We would have to forgo the shopping as we migh...</td>\n",
       "      <td>0.964286</td>\n",
       "    </tr>\n",
       "    <tr>\n",
       "      <th>1156</th>\n",
       "      <td>Finally, when the musical show finished, and I...</td>\n",
       "      <td>0.970588</td>\n",
       "    </tr>\n",
       "  </tbody>\n",
       "</table>\n",
       "<p>341 rows × 2 columns</p>\n",
       "</div>"
      ]
     },
     "execution_count": 21,
     "metadata": {},
     "output_type": "execute_result"
    }
   ],
   "execution_count": 21
  },
  {
   "cell_type": "markdown",
   "id": "381ea93e57418fb8",
   "metadata": {},
   "source": [
    "## German"
   ]
  },
  {
   "metadata": {
    "ExecuteTime": {
     "end_time": "2024-09-03T14:23:03.815217Z",
     "start_time": "2024-09-03T14:23:03.804291Z"
    }
   },
   "cell_type": "code",
   "source": [
    "print(\"correct only\")\n",
    "df[(df['lang'] == 'de')\n",
    "   & (df['label'] == 'correct')][['score', 'model']].groupby('model').mean().sort_values('score', ascending=False)"
   ],
   "id": "5cbd4d158ee4bb68",
   "outputs": [
    {
     "name": "stdout",
     "output_type": "stream",
     "text": [
      "correct only\n"
     ]
    },
    {
     "data": {
      "text/plain": [
       "                     score\n",
       "model                     \n",
       "Aya               0.977342\n",
       "LLaMa 3.1         0.972631\n",
       "Gemma 9B          0.969466\n",
       "Gemma 2B          0.966449\n",
       "Openchat3.5       0.965781\n",
       "original_dataset  0.953550\n",
       "Qwen              0.921842\n",
       "Mistral           0.906347\n",
       "Yi                0.897352"
      ],
      "text/html": [
       "<div>\n",
       "<style scoped>\n",
       "    .dataframe tbody tr th:only-of-type {\n",
       "        vertical-align: middle;\n",
       "    }\n",
       "\n",
       "    .dataframe tbody tr th {\n",
       "        vertical-align: top;\n",
       "    }\n",
       "\n",
       "    .dataframe thead th {\n",
       "        text-align: right;\n",
       "    }\n",
       "</style>\n",
       "<table border=\"1\" class=\"dataframe\">\n",
       "  <thead>\n",
       "    <tr style=\"text-align: right;\">\n",
       "      <th></th>\n",
       "      <th>score</th>\n",
       "    </tr>\n",
       "    <tr>\n",
       "      <th>model</th>\n",
       "      <th></th>\n",
       "    </tr>\n",
       "  </thead>\n",
       "  <tbody>\n",
       "    <tr>\n",
       "      <th>Aya</th>\n",
       "      <td>0.977342</td>\n",
       "    </tr>\n",
       "    <tr>\n",
       "      <th>LLaMa 3.1</th>\n",
       "      <td>0.972631</td>\n",
       "    </tr>\n",
       "    <tr>\n",
       "      <th>Gemma 9B</th>\n",
       "      <td>0.969466</td>\n",
       "    </tr>\n",
       "    <tr>\n",
       "      <th>Gemma 2B</th>\n",
       "      <td>0.966449</td>\n",
       "    </tr>\n",
       "    <tr>\n",
       "      <th>Openchat3.5</th>\n",
       "      <td>0.965781</td>\n",
       "    </tr>\n",
       "    <tr>\n",
       "      <th>original_dataset</th>\n",
       "      <td>0.953550</td>\n",
       "    </tr>\n",
       "    <tr>\n",
       "      <th>Qwen</th>\n",
       "      <td>0.921842</td>\n",
       "    </tr>\n",
       "    <tr>\n",
       "      <th>Mistral</th>\n",
       "      <td>0.906347</td>\n",
       "    </tr>\n",
       "    <tr>\n",
       "      <th>Yi</th>\n",
       "      <td>0.897352</td>\n",
       "    </tr>\n",
       "  </tbody>\n",
       "</table>\n",
       "</div>"
      ]
     },
     "execution_count": 22,
     "metadata": {},
     "output_type": "execute_result"
    }
   ],
   "execution_count": 22
  },
  {
   "metadata": {
    "ExecuteTime": {
     "end_time": "2024-09-03T14:23:04.367509Z",
     "start_time": "2024-09-03T14:23:04.356270Z"
    }
   },
   "cell_type": "code",
   "source": [
    "print(\"incorrect only\")\n",
    "df[(df['lang'] == 'de')\n",
    "   & (df['label'] == 'incorrect')][['score', 'model']].groupby('model').mean().sort_values('score', ascending=False)"
   ],
   "id": "f61579bd5ccdd9",
   "outputs": [
    {
     "name": "stdout",
     "output_type": "stream",
     "text": [
      "incorrect only\n"
     ]
    },
    {
     "data": {
      "text/plain": [
       "                     score\n",
       "model                     \n",
       "Gemma 9B          0.973063\n",
       "Aya               0.967451\n",
       "LLaMa 3.1         0.965003\n",
       "Gemma 2B          0.958069\n",
       "Openchat3.5       0.956346\n",
       "Qwen              0.938746\n",
       "Mistral           0.896968\n",
       "Yi                0.878393\n",
       "original_dataset  0.849476"
      ],
      "text/html": [
       "<div>\n",
       "<style scoped>\n",
       "    .dataframe tbody tr th:only-of-type {\n",
       "        vertical-align: middle;\n",
       "    }\n",
       "\n",
       "    .dataframe tbody tr th {\n",
       "        vertical-align: top;\n",
       "    }\n",
       "\n",
       "    .dataframe thead th {\n",
       "        text-align: right;\n",
       "    }\n",
       "</style>\n",
       "<table border=\"1\" class=\"dataframe\">\n",
       "  <thead>\n",
       "    <tr style=\"text-align: right;\">\n",
       "      <th></th>\n",
       "      <th>score</th>\n",
       "    </tr>\n",
       "    <tr>\n",
       "      <th>model</th>\n",
       "      <th></th>\n",
       "    </tr>\n",
       "  </thead>\n",
       "  <tbody>\n",
       "    <tr>\n",
       "      <th>Gemma 9B</th>\n",
       "      <td>0.973063</td>\n",
       "    </tr>\n",
       "    <tr>\n",
       "      <th>Aya</th>\n",
       "      <td>0.967451</td>\n",
       "    </tr>\n",
       "    <tr>\n",
       "      <th>LLaMa 3.1</th>\n",
       "      <td>0.965003</td>\n",
       "    </tr>\n",
       "    <tr>\n",
       "      <th>Gemma 2B</th>\n",
       "      <td>0.958069</td>\n",
       "    </tr>\n",
       "    <tr>\n",
       "      <th>Openchat3.5</th>\n",
       "      <td>0.956346</td>\n",
       "    </tr>\n",
       "    <tr>\n",
       "      <th>Qwen</th>\n",
       "      <td>0.938746</td>\n",
       "    </tr>\n",
       "    <tr>\n",
       "      <th>Mistral</th>\n",
       "      <td>0.896968</td>\n",
       "    </tr>\n",
       "    <tr>\n",
       "      <th>Yi</th>\n",
       "      <td>0.878393</td>\n",
       "    </tr>\n",
       "    <tr>\n",
       "      <th>original_dataset</th>\n",
       "      <td>0.849476</td>\n",
       "    </tr>\n",
       "  </tbody>\n",
       "</table>\n",
       "</div>"
      ]
     },
     "execution_count": 23,
     "metadata": {},
     "output_type": "execute_result"
    }
   ],
   "execution_count": 23
  },
  {
   "metadata": {
    "ExecuteTime": {
     "end_time": "2024-09-03T14:23:05.992852Z",
     "start_time": "2024-09-03T14:23:05.931669Z"
    }
   },
   "cell_type": "code",
   "source": "plot_hist(df[(df['lang'] == 'de') & (df['model'] == 'original_dataset')])",
   "id": "e87a6c312d534f80",
   "outputs": [
    {
     "data": {
      "text/plain": [
       "<Figure size 640x480 with 1 Axes>"
      ],
      "image/png": "[encoded data removed]"
     },
     "metadata": {},
     "output_type": "display_data"
    }
   ],
   "execution_count": 24
  },
  {
   "metadata": {
    "ExecuteTime": {
     "end_time": "2024-09-03T14:23:06.268788Z",
     "start_time": "2024-09-03T14:23:06.258025Z"
    }
   },
   "cell_type": "code",
   "source": [
    "df[(df['lang'] == 'de')\n",
    "   & (df['model'] == 'original_dataset')\n",
    "   & (df['score'] != 1)\n",
    "   & (df['label'] == 'correct')][['content', 'score']].sort_values('score')"
   ],
   "id": "aea79db5e5fc03b9",
   "outputs": [
    {
     "data": {
      "text/plain": [
       "                                                content     score\n",
       "8798                                           gekauft.  0.000000\n",
       "8847                                            online.  0.000000\n",
       "6665          Hoffentlich bis bald Katharina 27.02.2012  0.400000\n",
       "6984                                       Viele Grüße.  0.500000\n",
       "9140                                         war schön.  0.500000\n",
       "...                                                 ...       ...\n",
       "8686  Dieses Phänomen ist ein wichtiges Problem in a...  0.960000\n",
       "8859  In diesem Text „Ist es sinnvoll, auch im Ausla...  0.960000\n",
       "8663  Ich denke besonders an die vielen Kinder, Taus...  0.961538\n",
       "9047  Ich werde von meinen Bekannten danach gefragt,...  0.962963\n",
       "8975  Sie haben nichts geleistet, um ihr Geld zu bek...  0.966667\n",
       "\n",
       "[176 rows x 2 columns]"
      ],
      "text/html": [
       "<div>\n",
       "<style scoped>\n",
       "    .dataframe tbody tr th:only-of-type {\n",
       "        vertical-align: middle;\n",
       "    }\n",
       "\n",
       "    .dataframe tbody tr th {\n",
       "        vertical-align: top;\n",
       "    }\n",
       "\n",
       "    .dataframe thead th {\n",
       "        text-align: right;\n",
       "    }\n",
       "</style>\n",
       "<table border=\"1\" class=\"dataframe\">\n",
       "  <thead>\n",
       "    <tr style=\"text-align: right;\">\n",
       "      <th></th>\n",
       "      <th>content</th>\n",
       "      <th>score</th>\n",
       "    </tr>\n",
       "  </thead>\n",
       "  <tbody>\n",
       "    <tr>\n",
       "      <th>8798</th>\n",
       "      <td>gekauft.</td>\n",
       "      <td>0.000000</td>\n",
       "    </tr>\n",
       "    <tr>\n",
       "      <th>8847</th>\n",
       "      <td>online.</td>\n",
       "      <td>0.000000</td>\n",
       "    </tr>\n",
       "    <tr>\n",
       "      <th>6665</th>\n",
       "      <td>Hoffentlich bis bald Katharina 27.02.2012</td>\n",
       "      <td>0.400000</td>\n",
       "    </tr>\n",
       "    <tr>\n",
       "      <th>6984</th>\n",
       "      <td>Viele Grüße.</td>\n",
       "      <td>0.500000</td>\n",
       "    </tr>\n",
       "    <tr>\n",
       "      <th>9140</th>\n",
       "      <td>war schön.</td>\n",
       "      <td>0.500000</td>\n",
       "    </tr>\n",
       "    <tr>\n",
       "      <th>...</th>\n",
       "      <td>...</td>\n",
       "      <td>...</td>\n",
       "    </tr>\n",
       "    <tr>\n",
       "      <th>8686</th>\n",
       "      <td>Dieses Phänomen ist ein wichtiges Problem in a...</td>\n",
       "      <td>0.960000</td>\n",
       "    </tr>\n",
       "    <tr>\n",
       "      <th>8859</th>\n",
       "      <td>In diesem Text „Ist es sinnvoll, auch im Ausla...</td>\n",
       "      <td>0.960000</td>\n",
       "    </tr>\n",
       "    <tr>\n",
       "      <th>8663</th>\n",
       "      <td>Ich denke besonders an die vielen Kinder, Taus...</td>\n",
       "      <td>0.961538</td>\n",
       "    </tr>\n",
       "    <tr>\n",
       "      <th>9047</th>\n",
       "      <td>Ich werde von meinen Bekannten danach gefragt,...</td>\n",
       "      <td>0.962963</td>\n",
       "    </tr>\n",
       "    <tr>\n",
       "      <th>8975</th>\n",
       "      <td>Sie haben nichts geleistet, um ihr Geld zu bek...</td>\n",
       "      <td>0.966667</td>\n",
       "    </tr>\n",
       "  </tbody>\n",
       "</table>\n",
       "<p>176 rows × 2 columns</p>\n",
       "</div>"
      ]
     },
     "execution_count": 25,
     "metadata": {},
     "output_type": "execute_result"
    }
   ],
   "execution_count": 25
  }
 ],
 "metadata": {
  "kernelspec": {
   "display_name": "Python 3 (ipykernel)",
   "language": "python",
   "name": "python3"
  },
  "language_info": {
   "codemirror_mode": {
    "name": "ipython",
    "version": 3
   },
   "file_extension": ".py",
   "mimetype": "text/x-python",
   "name": "python",
   "nbconvert_exporter": "python",
   "pygments_lexer": "ipython3",
   "version": "3.9.18"
  }
 },
 "nbformat": 4,
 "nbformat_minor": 5
}
